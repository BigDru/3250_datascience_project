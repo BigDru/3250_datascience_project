{
 "cells": [
  {
   "cell_type": "markdown",
   "id": "d3dcbcb0",
   "metadata": {},
   "source": [
    "# Team Project"
   ]
  },
  {
   "cell_type": "code",
   "execution_count": 1,
   "id": "bb13de2b",
   "metadata": {},
   "outputs": [],
   "source": [
    "import numpy as np\n",
    "import pandas as pd"
   ]
  },
  {
   "cell_type": "code",
   "execution_count": null,
   "id": "dd26a7d8",
   "metadata": {},
   "outputs": [],
   "source": [
    "crime = pd.read_csv(\"Neighbourhood_Crime_Rates.csv\")"
   ]
  },
  {
   "cell_type": "code",
   "execution_count": null,
   "id": "2eea4a8b",
   "metadata": {},
   "outputs": [],
   "source": [
    "crime.columns"
   ]
  },
  {
   "cell_type": "code",
   "execution_count": null,
   "id": "39899ebb",
   "metadata": {},
   "outputs": [],
   "source": [
    "crime"
   ]
  },
  {
   "cell_type": "code",
   "execution_count": null,
   "id": "cc96d00f",
   "metadata": {},
   "outputs": [],
   "source": [
    "profiles = pd.read_csv(\"neighbourhood-profiles-2016-140-model.csv\")\n",
    "profiles"
   ]
  },
  {
   "cell_type": "code",
   "execution_count": null,
   "id": "24a5ca1f",
   "metadata": {},
   "outputs": [],
   "source": [
    "profiles.columns"
   ]
  },
  {
   "cell_type": "code",
   "execution_count": null,
   "id": "fd328e6a",
   "metadata": {},
   "outputs": [],
   "source": [
    "profiles[['Category','Topic', 'Data Source', 'Characteristic', 'Casa Loma']]"
   ]
  },
  {
   "cell_type": "code",
   "execution_count": null,
   "id": "b3298457",
   "metadata": {},
   "outputs": [],
   "source": [
    "# Unpivot the dataset\n",
    "profiles_1 = pd.melt(profiles, id_vars=['Category','Topic','Data Source','Characteristic'])\n",
    "profiles_1"
   ]
  },
  {
   "cell_type": "code",
   "execution_count": null,
   "id": "0b76a899",
   "metadata": {},
   "outputs": [],
   "source": [
    "profiles_1.info()"
   ]
  },
  {
   "cell_type": "code",
   "execution_count": null,
   "id": "78641d43",
   "metadata": {},
   "outputs": [],
   "source": [
    "# remove variable '_id'\n",
    "profiles_1 = profiles_1.drop(\n",
    "    profiles_1[profiles_1[\"variable\"] == '_id'].index\n",
    ")"
   ]
  },
  {
   "cell_type": "code",
   "execution_count": null,
   "id": "47ec7d50",
   "metadata": {},
   "outputs": [],
   "source": [
    "# remove variable 'City of Toronto'\n",
    "profiles_1 = profiles_1.drop(\n",
    "    profiles_1[profiles_1[\"variable\"] == 'City of Toronto'].index\n",
    ")"
   ]
  },
  {
   "cell_type": "code",
   "execution_count": null,
   "id": "fef88bcf",
   "metadata": {},
   "outputs": [],
   "source": [
    "#profiles_1[(profiles_1['variable']=='City of Toronto') & (profiles_1['Data Source']=='City of Toronto')]\n",
    "#profiles_1[profiles_1[\"Characteristic\"].str.contains(\"TSNS2020\", regex=False)]\n",
    "#profiles_1[profiles_1['Characteristic'].str.contains(\"2020\", regex=False)]\n",
    "#profiles_1[profiles_1['variable']=='_id']\n",
    "#profiles_1[(profiles_1['Data Source']=='City of Toronto')]\n",
    "#profiles_1[profiles_1[\"Characteristic\"].str.contains(\"TSNS2020\", regex=False)]\n",
    "profiles_1[profiles_1[\"Characteristic\"]==\"Neighbourhood Number\"]"
   ]
  },
  {
   "cell_type": "code",
   "execution_count": null,
   "id": "c67b43d5",
   "metadata": {},
   "outputs": [],
   "source": [
    "n_number = profiles_1[profiles_1[\"Characteristic\"]==\"Neighbourhood Number\"]"
   ]
  },
  {
   "cell_type": "code",
   "execution_count": null,
   "id": "5dcab8f6",
   "metadata": {},
   "outputs": [],
   "source": [
    "n_number = n_number.set_index('variable')"
   ]
  },
  {
   "cell_type": "code",
   "execution_count": null,
   "id": "72822a21",
   "metadata": {},
   "outputs": [],
   "source": [
    "profiles_1['neighbourhood_number'] = profiles_1.variable.map(dict(n_number['value']))"
   ]
  },
  {
   "cell_type": "code",
   "execution_count": null,
   "id": "5fca17a0",
   "metadata": {},
   "outputs": [],
   "source": [
    "profiles_1"
   ]
  },
  {
   "cell_type": "code",
   "execution_count": null,
   "id": "a8224dfb",
   "metadata": {},
   "outputs": [],
   "source": [
    "# remove Characteristic 'Neighbourhood Number'\n",
    "profiles_1 = profiles_1.drop(\n",
    "    profiles_1[profiles_1[\"Characteristic\"] == 'Neighbourhood Number'].index\n",
    ")"
   ]
  },
  {
   "cell_type": "code",
   "execution_count": null,
   "id": "d3760940",
   "metadata": {},
   "outputs": [],
   "source": [
    "profiles_1"
   ]
  },
  {
   "cell_type": "code",
   "execution_count": null,
   "id": "fbd4b65d",
   "metadata": {},
   "outputs": [],
   "source": [
    "# rename columns\n",
    "profiles_1 = profiles_1.rename(columns={'Category': 'category', 'Topic': 'topic', 'Data Source': 'data_source', 'Characteristic':'characteristic', 'variable': 'neighbourhood_name'})"
   ]
  },
  {
   "cell_type": "code",
   "execution_count": null,
   "id": "e12f46ea",
   "metadata": {},
   "outputs": [],
   "source": [
    "profiles_1"
   ]
  },
  {
   "cell_type": "code",
   "execution_count": null,
   "id": "5e7b60ea",
   "metadata": {},
   "outputs": [],
   "source": []
  }
 ],
 "metadata": {
  "kernelspec": {
   "display_name": "Python 3 (ipykernel)",
   "language": "python",
   "name": "python3"
  },
  "language_info": {
   "codemirror_mode": {
    "name": "ipython",
    "version": 3
   },
   "file_extension": ".py",
   "mimetype": "text/x-python",
   "name": "python",
   "nbconvert_exporter": "python",
   "pygments_lexer": "ipython3",
   "version": "3.10.6"
  }
 },
 "nbformat": 4,
 "nbformat_minor": 5
}
