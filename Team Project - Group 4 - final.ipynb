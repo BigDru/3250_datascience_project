{
 "cells": [
  {
   "cell_type": "markdown",
   "id": "d576ccb9-ab3e-49cb-95be-b9aa1b7d0379",
   "metadata": {},
   "source": [
    "# Team Project"
   ]
  },
  {
   "cell_type": "code",
   "execution_count": null,
   "id": "482eecbb-6bed-49a8-9518-db09991efd9a",
   "metadata": {},
   "outputs": [],
   "source": [
    "# libraries to import\n",
    "import numpy as np\n",
    "import pandas as pd\n",
    "import geopandas as gpd\n",
    "import matplotlib.pyplot as plt\n",
    "import matplotlib as mpltlib\n",
    "import seaborn as sns\n",
    "sns.set(style=\"darkgrid\")\n",
    "%matplotlib inline"
   ]
  },
  {
   "cell_type": "code",
   "execution_count": null,
   "id": "01337471-c281-4fdd-8126-4dc280811103",
   "metadata": {},
   "outputs": [],
   "source": [
    "## read datas\n",
    "\n",
    "# crime\n",
    "crime_raw = pd.read_csv(\"Neighbourhood_Crime_Rates.csv\")\n",
    "\n",
    "# neighbourhood data\n",
    "neighbourhood_raw = pd.read_csv(\"neighbourhood-profiles-2016-140-model.csv\")\n"
   ]
  },
  {
   "cell_type": "code",
   "execution_count": null,
   "id": "dbd11e14-5785-43c2-b3e9-4f25a2d0580b",
   "metadata": {},
   "outputs": [],
   "source": [
    "# keep relevant variables for analysis. since the other csv contains data from 2016, only focus on 2016 data\n",
    "crime_2016 = crime_raw[['Neighbourhood', 'Assault_2016', 'Assault_Rate2016', 'AutoTheft_2016', 'AutoTheft_Rate2016',\n",
    "                      'BreakAndEnter_2016', 'BreakAndEnter_Rate2016', 'Robbery_2016', 'Robbery_Rate2016',\n",
    "                      'TheftOver_2016', 'TheftOver_Rate2016', 'Homicide_2016', 'Homicide_Rate2016',\n",
    "                      'Shootings_2016', 'Shootings_Rate2016']]"
   ]
  },
  {
   "cell_type": "code",
   "execution_count": null,
   "id": "20835a1c-7430-4620-b146-53f50122209e",
   "metadata": {},
   "outputs": [],
   "source": [
    "%%capture --no-display\n",
    "# David's heat map stuff\n",
    "tor_map = \"Neighbourhoods.shp\"\n",
    "# read .shp file and make a common joining factor\n",
    "regions = gpd.read_file(tor_map)\n",
    "regions['neighbourhood'] = regions['FIELD_7'].str.replace(' \\(.+\\)', '')\n",
    "# keep coordinates, polygons, and neighbourhood name\n",
    "regions_cleaned = regions[['FIELD_11', 'FIELD_12', 'geometry', 'neighbourhood']]\n",
    "regions_cleaned = regions_cleaned.rename(columns={'FIELD_11':'longitute', 'FIELD_12':'latitude'})\n"
   ]
  },
  {
   "cell_type": "code",
   "execution_count": null,
   "id": "7b519734-0310-4d86-be02-ac65199de114",
   "metadata": {},
   "outputs": [],
   "source": [
    "# join crime data and heat map data\n",
    "crime_regions = regions_cleaned.set_index('neighbourhood').join(crime_2016.set_index('Neighbourhood'))\n",
    "crime_regions = crime_regions.reset_index()\n",
    "crime_regions = crime_regions.fillna(0)\n",
    "\n",
    "# create a total crimes\n",
    "crime_regions['TotalCrimes_2016'] = crime_regions['Assault_2016']+ \\\n",
    "                            crime_regions['AutoTheft_2016']+ \\\n",
    "                            crime_regions['BreakAndEnter_2016']+ \\\n",
    "                            crime_regions['Robbery_2016']+ \\\n",
    "                            crime_regions['TheftOver_2016']+ \\\n",
    "                            crime_regions['Homicide_2016']+ \\\n",
    "                            crime_regions['Shootings_2016']\n"
   ]
  },
  {
   "cell_type": "code",
   "execution_count": null,
   "id": "398d82bd-a5a3-4bc8-910c-2a8f905bb8f1",
   "metadata": {},
   "outputs": [],
   "source": [
    "# Unpivot the neighbourhood dataframe\n",
    "neighbourhood = pd.melt(neighbourhood_raw, id_vars=['Category','Topic','Data Source','Characteristic'])"
   ]
  },
  {
   "cell_type": "code",
   "execution_count": null,
   "id": "2ca2747f-05cc-409e-96be-80f89aec520f",
   "metadata": {},
   "outputs": [],
   "source": [
    "# cleaning neighbourhood\n",
    "# remove rows that are not neighbourhood\n",
    "\n",
    "# remove rows whith variable = '_id'\n",
    "neighbourhood = neighbourhood.drop(\n",
    "    neighbourhood[neighbourhood[\"variable\"] == '_id'].index\n",
    ")\n",
    "\n",
    "# remove rows whith variable = 'City of Toronto'\n",
    "neighbourhood = neighbourhood.drop(\n",
    "    neighbourhood[neighbourhood[\"variable\"] == 'City of Toronto'].index\n",
    ")\n",
    "\n",
    "# now in the neighbourhood we have only neighbourhood"
   ]
  },
  {
   "cell_type": "code",
   "execution_count": null,
   "id": "ecafe761-26ed-481e-b051-9d23ead5f03c",
   "metadata": {},
   "outputs": [],
   "source": [
    "# ajust column names\n",
    "neighbourhood = neighbourhood.rename(columns={'Category': 'category', 'Topic': 'topic', 'Data Source': 'data_source', 'Characteristic':'characteristic', 'variable': 'neighbourhood'})\n"
   ]
  },
  {
   "cell_type": "code",
   "execution_count": null,
   "id": "0db2f31b-2fb7-4ad6-a6f0-cb2bff8d1827",
   "metadata": {},
   "outputs": [],
   "source": [
    "# return a dataframe filtering values from neighbourhood dataframme\n",
    "def neighbourhoodDataframeValueFiltered(column, filter):\n",
    "    newDataframe = neighbourhood[['characteristic','neighbourhood','value']].query('characteristic == \"'+filter+'\"')\n",
    "    \n",
    "    # adjust column name\n",
    "    newDataframe = newDataframe.rename(columns={'value': column})\n",
    "\n",
    "    # adjust type of column to int\n",
    "    newDataframe[column] = newDataframe[column].str.replace(',', '')\n",
    "    newDataframe = newDataframe.astype({column: float})\n",
    "    newDataframe = newDataframe.drop('characteristic', axis=1)\n",
    "    \n",
    "    # return dataFrame \n",
    "    return newDataframe"
   ]
  },
  {
   "cell_type": "code",
   "execution_count": null,
   "id": "d3d2f3c8-1dc6-4468-8cfb-794815513eeb",
   "metadata": {},
   "outputs": [],
   "source": [
    "# dictionary with column name and condition to add from neighbourhood to crime_regions\n",
    "dict_columns = {}\n",
    "dict_columns['population'] = 'Population, 2016'\n",
    "dict_columns['children'] = 'Children (0-14 years)'\n",
    "dict_columns['youth']='Youth (15-24 years)'\n",
    "dict_columns['workingAge']='Working Age (25-54 years)'\n",
    "dict_columns['preRetirement']='Pre-retirement (55-64 years)'\n",
    "dict_columns['seniors']='Seniors (65+ years)'\n",
    "dict_columns['olderSeniors']='Older Seniors (85+ years)'\n",
    "dict_columns['seniors_alone']='Persons age 65+ living alone (total)'\n",
    "dict_columns['income']='Total income: Average amount ($)'\n",
    "dict_columns['education']='Total - Highest certificate, diploma or degree for the population aged 15 years and over in private households - 25% sample data'\n",
    "dict_columns['indigenous']='Total - Aboriginal identity for the population in private households - 25% sample data'\n",
    "dict_columns['unemployment']='Employment rate'\n"
   ]
  },
  {
   "cell_type": "code",
   "execution_count": null,
   "id": "e5541f1c-94f4-4a1a-9814-1e126d8c63a3",
   "metadata": {},
   "outputs": [],
   "source": [
    "# loop to add columns to crime_regions\n",
    "for column in dict_columns:\n",
    "    crime_regions = crime_regions.merge(neighbourhoodDataframeValueFiltered(column, dict_columns[column]), left_on='neighbourhood', right_on='neighbourhood')\n"
   ]
  },
  {
   "cell_type": "code",
   "execution_count": null,
   "id": "e8279b7f-48c4-4ccf-9ac1-e9cfec423948",
   "metadata": {},
   "outputs": [],
   "source": [
    "crime_regions.head(10)"
   ]
  },
  {
   "cell_type": "code",
   "execution_count": null,
   "id": "0935a00f-b76f-4443-b817-7a1ad04c8a55",
   "metadata": {},
   "outputs": [],
   "source": [
    "# Heat Map of Assaults by Neighbourhood in Toronto\n",
    "# make the plot\n",
    "fig, ax = plt.subplots(1, figsize=(40, 20))\n",
    "ax.axis('off')\n",
    "ax.set_title('Heat Map of Assaults by Neighbourhood in Toronto, Ontario', fontdict={'fontsize': '40', 'fontweight' : '3'})\n",
    "\n",
    "color = 'Oranges'\n",
    "vmin, vmax = 0, 231\n",
    "sm = plt.cm.ScalarMappable(cmap=color, norm=plt.Normalize(vmin=vmin, vmax=vmax))\n",
    "sm._A = []\n",
    "cbar = fig.colorbar(sm)\n",
    "cbar.ax.tick_params(labelsize=20)\n",
    "\n",
    "crime_regions.plot('Assault_2016', cmap=color, linewidth=0.8, ax=ax, edgecolor='0.8', figsize=(40,20))\n",
    "for idx, row in crime_regions.iterrows():\n",
    "    if(row['Assault_2016'] > 250):\n",
    "        plt.annotate(text=row['neighbourhood'], xy=(row['longitute'], row['latitude']),\n",
    "                 horizontalalignment='center', fontsize='large', color='black', wrap=True)\n",
    "plt.show()"
   ]
  },
  {
   "cell_type": "code",
   "execution_count": null,
   "id": "170e6f1e-0119-4b1b-9894-7f649b5e2ed9",
   "metadata": {},
   "outputs": [],
   "source": [
    "# Heat Map of Crimes by Neighbourhood in Toronto\n",
    "fig, ax = plt.subplots(1, figsize=(40, 20))\n",
    "ax.axis('off')\n",
    "ax.set_title('Heat Map of Crimes by Neighbourhood in Toronto, Ontario', fontdict={'fontsize': '40', 'fontweight' : '3'})\n",
    "\n",
    "#color = 'Oranges'\n",
    "color = 'Reds'\n",
    "vmin, vmax = 0, crime_regions['TotalCrimes_2016'].max()\n",
    "sm = plt.cm.ScalarMappable(cmap=color, norm=plt.Normalize(vmin=vmin, vmax=vmax))\n",
    "sm._A = []\n",
    "cbar = fig.colorbar(sm)\n",
    "cbar.ax.tick_params(labelsize=20)\n",
    "\n",
    "crime_regions.plot('TotalCrimes_2016', cmap=color, linewidth=0.8, ax=ax, edgecolor='0.8', figsize=(40,20))\n",
    "for idx, row in crime_regions.iterrows():\n",
    "    if(row['TotalCrimes_2016'] > crime_regions['TotalCrimes_2016'].mean()):\n",
    "        plt.annotate(text=row['neighbourhood'], xy=(row['longitute'], row['latitude']),\n",
    "                 horizontalalignment='center', fontsize='large', color='black', wrap=True)\n",
    "plt.show()"
   ]
  },
  {
   "cell_type": "code",
   "execution_count": null,
   "id": "21b9a7f8-276e-4606-881f-4e9c545f0d07",
   "metadata": {},
   "outputs": [],
   "source": [
    "# assaults top 10 bar graph\n",
    "crime_regions = crime_regions.sort_values(['Assault_2016'], ascending=False)\n",
    "\n",
    "fig, ax = plt.subplots()\n",
    "\n",
    "ax.bar(crime_regions['neighbourhood'].iloc[:10], crime_regions['Assault_2016'].iloc[:10])\n",
    "\n",
    "ax.set_ylabel('Assaults')\n",
    "ax.set_title('Number of assaults by neighbourhood (top 10)')\n",
    "\n",
    "plt.show()"
   ]
  },
  {
   "cell_type": "code",
   "execution_count": null,
   "id": "98067632-29b4-4957-9930-5bee8bb18fd9",
   "metadata": {},
   "outputs": [],
   "source": [
    "# homicides\n",
    "crime_regions = crime_regions.sort_values(['Homicide_2016'], ascending=False)\n",
    "\n",
    "fig, ax = plt.subplots()\n",
    "ax.bar(crime_regions['neighbourhood'].iloc[:10], crime_regions['Homicide_2016'].iloc[:10])\n",
    "ax.set_ylabel('Assaults')\n",
    "ax.set_title('Number of homicidee by neighbourhood (top 10)')\n",
    "\n",
    "plt.show()"
   ]
  },
  {
   "cell_type": "code",
   "execution_count": null,
   "id": "9dda77ad-08d2-4c61-abe9-983a56235b4e",
   "metadata": {},
   "outputs": [],
   "source": [
    "plt.rc('figure', figsize=(12, 4))\n",
    "\n",
    "x = np.arange(len(crime_regions['neighbourhood'].iloc[:5]))  # the label locations\n",
    "width = 0.35  # the width of the bars\n",
    "\n",
    "fig, ax = plt.subplots()\n",
    "\n",
    "#rects1 = ax.bar(x - width/2, men_means, width, label='Men')\n",
    "assault = ax.bar(x - width/2, crime_regions['Assault_2016'].iloc[:5], width, label='Assault')\n",
    "homicide = ax.bar(x + width/2, crime_regions['BreakAndEnter_2016'].iloc[:5], width, label='BreakAndEnter')\n",
    "#rects2 = ax.bar(x + width/2, women_means, width, label='Women')\n",
    "\n",
    "# Add some text for labels, title and custom x-axis tick labels, etc.\n",
    "ax.set_ylabel('Crimes')\n",
    "ax.set_title('Assault/Break and Enter by neighbourhood')\n",
    "ax.set_xticks(x, crime_regions['neighbourhood'].iloc[:5])\n",
    "ax.legend()\n",
    "\n",
    "ax.bar_label(assault, padding=3)\n",
    "ax.bar_label(homicide, padding=3)\n",
    "\n",
    "fig.tight_layout()\n",
    "\n",
    "plt.show()"
   ]
  },
  {
   "cell_type": "code",
   "execution_count": null,
   "id": "75c15b70-5b63-4ca7-a670-e629b40be435",
   "metadata": {},
   "outputs": [],
   "source": [
    "crime_regions = crime_regions.sort_values(['TotalCrimes_2016'], ascending=False)\n",
    "\n",
    "plt.plot(crime_regions['neighbourhood'].iloc[:5],crime_regions['Assault_2016'].iloc[:5])\n",
    "plt.plot(crime_regions['neighbourhood'].iloc[:5],crime_regions['AutoTheft_2016'].iloc[:5])\n",
    "plt.plot(crime_regions['neighbourhood'].iloc[:5],crime_regions['BreakAndEnter_2016'].iloc[:5])\n",
    "plt.plot(crime_regions['neighbourhood'].iloc[:5],crime_regions['Robbery_2016'].iloc[:5])\n",
    "plt.plot(crime_regions['neighbourhood'].iloc[:5],crime_regions['TheftOver_2016'].iloc[:5])\n",
    "plt.plot(crime_regions['neighbourhood'].iloc[:5],crime_regions['Homicide_2016'].iloc[:5])\n",
    "plt.plot(crime_regions['neighbourhood'].iloc[:5],crime_regions['Shootings_2016'].iloc[:5])\n"
   ]
  },
  {
   "cell_type": "code",
   "execution_count": null,
   "id": "8c91428c-97dd-4277-a4f9-59deb48bb837",
   "metadata": {},
   "outputs": [],
   "source": [
    "%%capture --no-display\n",
    "# make smaller plots so we can visually compare them\n",
    "crimes_of_interest_column_names = [\"Assault_2016\", \"AutoTheft_2016\", \"BreakAndEnter_2016\", \"Robbery_2016\", \"TheftOver_2016\", \"Homicide_2016\", \"Shootings_2016\"]\n",
    "#colors = plt.cm.Sequential\n",
    "colors = [\"Oranges\", \"Blues\", \"Reds\", \"Greens\"]\n",
    "\n",
    "fig_width = 5\n",
    "fig_height = 5\n",
    "\n",
    "# make the plots\n",
    "fig, axs = plt.subplots(ncols=len(crimes_of_interest_column_names), figsize=(fig_width * len(crimes_of_interest_column_names), fig_height))\n",
    "# common settings for all plots:\n",
    "for ax in axs:\n",
    "    ax.axis('off')\n",
    "\n",
    "# unique settings:\n",
    "for i in range(0, len(crimes_of_interest_column_names)):\n",
    "    crime_column = crimes_of_interest_column_names[i]\n",
    "    #todo: fix title crime name\n",
    "    axs[i].set_title(f\"{crime_column}\", fontdict={'fontsize': '10', 'fontweight' : '3'})\n",
    "\n",
    "    color = colors[i % len(colors)]\n",
    "    vmin, vmax = 0, crime_regions[crime_column].max()\n",
    "    scalar_mappable = mpltlib.cm.ScalarMappable(norm=plt.Normalize(vmin=vmin, vmax=vmax), cmap=color)\n",
    "    \n",
    "    #cbar = fig.colorbar(scalar_mappable)\n",
    "    #cbar.ax.tick_params(labelsize=14)\n",
    "\n",
    "    crime_regions.plot(crime_column, cmap=color, linewidth=0.8, ax=axs[i], edgecolor='0.8', figsize=(fig_width, fig_height))\n",
    "\n",
    "    \n",
    "plt.show()\n",
    "    \n",
    "#####################\n",
    "discard = '''\n",
    "# make the plot\n",
    "fig, ax = plt.subplots(1, figsize=(10,5))\n",
    "ax.axis('off')\n",
    "ax.set_title('Heat Map of Unemployment', fontdict={'fontsize': '10', 'fontweight' : '3'})\n",
    "\n",
    "color = 'Blues'\n",
    "vmin, vmax = 0, 231\n",
    "sm = plt.cm.ScalarMappable(cmap=color, norm=plt.Normalize(vmin=vmin, vmax=vmax))\n",
    "sm._A = []\n",
    "cbar = fig.colorbar(sm)\n",
    "cbar.ax.tick_params(labelsize=20)\n",
    "\n",
    "merged.plot('Assault_2016', cmap=color, linewidth=0.8, ax=ax, edgecolor='0.8', figsize=(10,5))\n",
    "\n",
    "plt.show()\n",
    "'''"
   ]
  }
 ],
 "metadata": {
  "kernelspec": {
   "display_name": "Python 3 (ipykernel)",
   "language": "python",
   "name": "python3"
  },
  "language_info": {
   "codemirror_mode": {
    "name": "ipython",
    "version": 3
   },
   "file_extension": ".py",
   "mimetype": "text/x-python",
   "name": "python",
   "nbconvert_exporter": "python",
   "pygments_lexer": "ipython3",
   "version": "3.10.6"
  }
 },
 "nbformat": 4,
 "nbformat_minor": 5
}
