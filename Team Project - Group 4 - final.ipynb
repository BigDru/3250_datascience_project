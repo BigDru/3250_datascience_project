{
 "cells": [
  {
   "cell_type": "markdown",
   "id": "d576ccb9-ab3e-49cb-95be-b9aa1b7d0379",
   "metadata": {},
   "source": [
    "# Team Project"
   ]
  },
  {
   "cell_type": "code",
   "execution_count": 2,
   "id": "482eecbb-6bed-49a8-9518-db09991efd9a",
   "metadata": {},
   "outputs": [],
   "source": [
    "# libraries to import\n",
    "import numpy as np\n",
    "import pandas as pd\n",
    "import geopandas as gpd\n",
    "import matplotlib.pyplot as plt\n",
    "import seaborn as sns\n",
    "sns.set(style=\"darkgrid\")\n",
    "%matplotlib inline"
   ]
  },
  {
   "cell_type": "code",
   "execution_count": 3,
   "id": "01337471-c281-4fdd-8126-4dc280811103",
   "metadata": {},
   "outputs": [],
   "source": [
    "## read datas\n",
    "\n",
    "# crime\n",
    "crime_raw = pd.read_csv(\"Neighbourhood_Crime_Rates.csv\")\n",
    "\n",
    "# neighbourhood data\n",
    "neighbourhood_raw = pd.read_csv(\"neighbourhood-profiles-2016-140-model.csv\")\n"
   ]
  },
  {
   "cell_type": "code",
   "execution_count": 4,
   "id": "dbd11e14-5785-43c2-b3e9-4f25a2d0580b",
   "metadata": {},
   "outputs": [],
   "source": [
    "# keep relevant variables for analysis. since the other csv contains data from 2016, only focus on 2016 data\n",
    "crime_2016 = crime_raw[['Neighbourhood', 'Assault_2016', 'Assault_Rate2016', 'AutoTheft_2016', 'AutoTheft_Rate2016',\n",
    "                      'BreakAndEnter_2016', 'BreakAndEnter_Rate2016', 'Robbery_2016', 'Robbery_Rate2016',\n",
    "                      'TheftOver_2016', 'TheftOver_Rate2016', 'Homicide_2016', 'Homicide_Rate2016',\n",
    "                      'Shootings_2016', 'Shootings_Rate2016']]"
   ]
  },
  {
   "cell_type": "code",
   "execution_count": 5,
   "id": "20835a1c-7430-4620-b146-53f50122209e",
   "metadata": {},
   "outputs": [],
   "source": [
    "%%capture --no-display\n",
    "# David's heat map stuff\n",
    "tor_map = \"Neighbourhoods.shp\"\n",
    "# read .shp file and make a common joining factor\n",
    "regions = gpd.read_file(tor_map)\n",
    "regions['neighbourhood'] = regions['FIELD_7'].str.replace(' \\(.+\\)', '')\n",
    "# keep coordinates, polygons, and neighbourhood name\n",
    "regions_cleaned = regions[['FIELD_11', 'FIELD_12', 'geometry', 'neighbourhood']]\n",
    "regions_cleaned = regions_cleaned.rename(columns={'FIELD_11':'longitute', 'FIELD_12':'latitude'})\n"
   ]
  },
  {
   "cell_type": "code",
   "execution_count": 6,
   "id": "7b519734-0310-4d86-be02-ac65199de114",
   "metadata": {},
   "outputs": [],
   "source": [
    "# join crime data and heat map data\n",
    "crime_regions = regions_cleaned.set_index('neighbourhood').join(crime_2016.set_index('Neighbourhood'))\n",
    "crime_regions = crime_regions.reset_index()\n",
    "crime_regions = crime_regions.fillna(0)\n",
    "\n",
    "# create a total crimes\n",
    "crime_regions['TotalCrimes_2016'] = crime_regions['Assault_2016']+ \\\n",
    "                            crime_regions['AutoTheft_2016']+ \\\n",
    "                            crime_regions['BreakAndEnter_2016']+ \\\n",
    "                            crime_regions['Robbery_2016']+ \\\n",
    "                            crime_regions['TheftOver_2016']+ \\\n",
    "                            crime_regions['Homicide_2016']+ \\\n",
    "                            crime_regions['Shootings_2016']\n"
   ]
  },
  {
   "cell_type": "code",
   "execution_count": 7,
   "id": "398d82bd-a5a3-4bc8-910c-2a8f905bb8f1",
   "metadata": {},
   "outputs": [],
   "source": [
    "# Unpivot the neighbourhood dataframe\n",
    "neighbourhood = pd.melt(neighbourhood_raw, id_vars=['Category','Topic','Data Source','Characteristic'])"
   ]
  },
  {
   "cell_type": "code",
   "execution_count": 8,
   "id": "2ca2747f-05cc-409e-96be-80f89aec520f",
   "metadata": {},
   "outputs": [],
   "source": [
    "# cleaning neighbourhood\n",
    "# remove rows that are not neighbourhood\n",
    "\n",
    "# remove rows whith variable = '_id'\n",
    "neighbourhood = neighbourhood.drop(\n",
    "    neighbourhood[neighbourhood[\"variable\"] == '_id'].index\n",
    ")\n",
    "\n",
    "# remove rows whith variable = 'City of Toronto'\n",
    "neighbourhood = neighbourhood.drop(\n",
    "    neighbourhood[neighbourhood[\"variable\"] == 'City of Toronto'].index\n",
    ")\n",
    "\n",
    "# now in the neighbourhood we have only neighbourhood"
   ]
  },
  {
   "cell_type": "code",
   "execution_count": 9,
   "id": "ecafe761-26ed-481e-b051-9d23ead5f03c",
   "metadata": {},
   "outputs": [],
   "source": [
    "# ajust column names\n",
    "neighbourhood = neighbourhood.rename(columns={'Category': 'category', 'Topic': 'topic', 'Data Source': 'data_source', 'Characteristic':'characteristic', 'variable': 'neighbourhood'})\n"
   ]
  },
  {
   "cell_type": "code",
   "execution_count": 16,
   "id": "7061b136-856d-4b0f-9820-e4dae48678cc",
   "metadata": {},
   "outputs": [],
   "source": [
    "# function too add a new column to original dataframe by filtering characteristic of neighbourhood dataframe\n",
    "def addColumnDataframe(column, characteristic, dataFrame):\n",
    "    newDataframe = neighbourhood[['characteristic','neighbourhood','value']].query('characteristic == \"'+characteristic+'\"')\n",
    "    \n",
    "    # adjust column name\n",
    "    newDataframe = newDataframe.rename(columns={'value': column})\n",
    "\n",
    "    # adjust type of column to int\n",
    "    newDataframe[column] = newDataframe[column].str.replace(',', '')\n",
    "    newDataframe = newDataframe.astype({column: int})\n",
    "    newDataframe = newDataframe.drop('characteristic', axis=1)\n",
    "    newDataframe = dataFrame.set_index('neighbourhood').join(newDataframe.set_index('neighbourhood'))\n",
    "    dataFrame.reset_index()\n",
    "    \n",
    "    # return dataFrame with nw column\n",
    "    return newDataframe"
   ]
  },
  {
   "cell_type": "code",
   "execution_count": 14,
   "id": "2377cf8f-1c59-4849-b6f2-e10d0fb21fd7",
   "metadata": {},
   "outputs": [
    {
     "ename": "KeyError",
     "evalue": "\"None of ['neighbourhood'] are in the columns\"",
     "output_type": "error",
     "traceback": [
      "\u001b[0;31m---------------------------------------------------------------------------\u001b[0m",
      "\u001b[0;31mKeyError\u001b[0m                                  Traceback (most recent call last)",
      "Cell \u001b[0;32mIn [14], line 2\u001b[0m\n\u001b[1;32m      1\u001b[0m \u001b[38;5;66;03m# add population to crime_regions\u001b[39;00m\n\u001b[0;32m----> 2\u001b[0m crime_regions \u001b[38;5;241m=\u001b[39m \u001b[43maddColumnDataframe\u001b[49m\u001b[43m(\u001b[49m\u001b[38;5;124;43m'\u001b[39;49m\u001b[38;5;124;43mpopulation\u001b[39;49m\u001b[38;5;124;43m'\u001b[39;49m\u001b[43m,\u001b[49m\u001b[43m \u001b[49m\u001b[38;5;124;43m'\u001b[39;49m\u001b[38;5;124;43mPopulation, 2016\u001b[39;49m\u001b[38;5;124;43m'\u001b[39;49m\u001b[43m,\u001b[49m\u001b[43mcrime_regions\u001b[49m\u001b[43m)\u001b[49m\n",
      "Cell \u001b[0;32mIn [10], line 14\u001b[0m, in \u001b[0;36maddColumnDataframe\u001b[0;34m(column, characteristic, dataFrame)\u001b[0m\n\u001b[1;32m     11\u001b[0m newDataframe \u001b[38;5;241m=\u001b[39m newDataframe\u001b[38;5;241m.\u001b[39mdrop(\u001b[38;5;124m'\u001b[39m\u001b[38;5;124mcharacteristic\u001b[39m\u001b[38;5;124m'\u001b[39m, axis\u001b[38;5;241m=\u001b[39m\u001b[38;5;241m1\u001b[39m)\n\u001b[1;32m     13\u001b[0m \u001b[38;5;66;03m# return dataFrame with nw column\u001b[39;00m\n\u001b[0;32m---> 14\u001b[0m \u001b[38;5;28;01mreturn\u001b[39;00m \u001b[43mdataFrame\u001b[49m\u001b[38;5;241;43m.\u001b[39;49m\u001b[43mset_index\u001b[49m\u001b[43m(\u001b[49m\u001b[38;5;124;43m'\u001b[39;49m\u001b[38;5;124;43mneighbourhood\u001b[39;49m\u001b[38;5;124;43m'\u001b[39;49m\u001b[43m)\u001b[49m\u001b[38;5;241m.\u001b[39mjoin(newDataframe\u001b[38;5;241m.\u001b[39mset_index(\u001b[38;5;124m'\u001b[39m\u001b[38;5;124mneighbourhood\u001b[39m\u001b[38;5;124m'\u001b[39m))\n",
      "File \u001b[0;32m/opt/conda/lib/python3.10/site-packages/pandas/util/_decorators.py:331\u001b[0m, in \u001b[0;36mdeprecate_nonkeyword_arguments.<locals>.decorate.<locals>.wrapper\u001b[0;34m(*args, **kwargs)\u001b[0m\n\u001b[1;32m    325\u001b[0m \u001b[38;5;28;01mif\u001b[39;00m \u001b[38;5;28mlen\u001b[39m(args) \u001b[38;5;241m>\u001b[39m num_allow_args:\n\u001b[1;32m    326\u001b[0m     warnings\u001b[38;5;241m.\u001b[39mwarn(\n\u001b[1;32m    327\u001b[0m         msg\u001b[38;5;241m.\u001b[39mformat(arguments\u001b[38;5;241m=\u001b[39m_format_argument_list(allow_args)),\n\u001b[1;32m    328\u001b[0m         \u001b[38;5;167;01mFutureWarning\u001b[39;00m,\n\u001b[1;32m    329\u001b[0m         stacklevel\u001b[38;5;241m=\u001b[39mfind_stack_level(),\n\u001b[1;32m    330\u001b[0m     )\n\u001b[0;32m--> 331\u001b[0m \u001b[38;5;28;01mreturn\u001b[39;00m \u001b[43mfunc\u001b[49m\u001b[43m(\u001b[49m\u001b[38;5;241;43m*\u001b[39;49m\u001b[43margs\u001b[49m\u001b[43m,\u001b[49m\u001b[43m \u001b[49m\u001b[38;5;241;43m*\u001b[39;49m\u001b[38;5;241;43m*\u001b[39;49m\u001b[43mkwargs\u001b[49m\u001b[43m)\u001b[49m\n",
      "File \u001b[0;32m/opt/conda/lib/python3.10/site-packages/pandas/core/frame.py:6001\u001b[0m, in \u001b[0;36mDataFrame.set_index\u001b[0;34m(self, keys, drop, append, inplace, verify_integrity)\u001b[0m\n\u001b[1;32m   5998\u001b[0m                 missing\u001b[38;5;241m.\u001b[39mappend(col)\n\u001b[1;32m   6000\u001b[0m \u001b[38;5;28;01mif\u001b[39;00m missing:\n\u001b[0;32m-> 6001\u001b[0m     \u001b[38;5;28;01mraise\u001b[39;00m \u001b[38;5;167;01mKeyError\u001b[39;00m(\u001b[38;5;124mf\u001b[39m\u001b[38;5;124m\"\u001b[39m\u001b[38;5;124mNone of \u001b[39m\u001b[38;5;132;01m{\u001b[39;00mmissing\u001b[38;5;132;01m}\u001b[39;00m\u001b[38;5;124m are in the columns\u001b[39m\u001b[38;5;124m\"\u001b[39m)\n\u001b[1;32m   6003\u001b[0m \u001b[38;5;28;01mif\u001b[39;00m inplace:\n\u001b[1;32m   6004\u001b[0m     frame \u001b[38;5;241m=\u001b[39m \u001b[38;5;28mself\u001b[39m\n",
      "\u001b[0;31mKeyError\u001b[0m: \"None of ['neighbourhood'] are in the columns\""
     ]
    }
   ],
   "source": [
    "# add population to crime_regions\n",
    "crime_regions = addColumnDataframe('population', 'Population, 2016',crime_regions)"
   ]
  },
  {
   "cell_type": "code",
   "execution_count": null,
   "id": "4b0352d9-db53-4b27-b184-6a22629d318d",
   "metadata": {},
   "outputs": [],
   "source": [
    "# add Senior to crime_regions\n",
    "# I used the 'Seniors (65+ years)' characteristic\n",
    "\n",
    "# add population to crime_regions\n",
    "crime_regions = addColumnDataframe('seniors', 'Seniors (65+ years)',crime_regions)"
   ]
  },
  {
   "cell_type": "code",
   "execution_count": null,
   "id": "fd763448-2130-4375-a3aa-e750853ea251",
   "metadata": {},
   "outputs": [],
   "source": [
    "#seniors living alone dataframe\n",
    "# I used the 'Persons age 65+ living alone (total)' characteristic\n",
    "\n",
    "seniors_alone = neighbourhood[['characteristic','neighbourhood','value']].query('characteristic == \"Persons age 65+ living alone (total)\"')\n",
    "\n",
    "# adjust column name\n",
    "seniors_alone = seniors_alone.rename(columns={'value': 'seniors_alone'})\n",
    "\n",
    "# adjust type of column to int\n",
    "seniors_alone['seniors_alone'] = seniors_alone['seniors_alone'].str.replace(',', '')\n",
    "seniors_alone = seniors_alone.astype({'seniors_alone': int})\n",
    "\n",
    "\n",
    "# add population to crime_regions dataframe\n",
    "crime_regions = crime_regions.set_index('neighbourhood').join(seniors_alone[['neighbourhood','seniors_alone']].set_index('neighbourhood'))\n",
    "crime_regions = crime_regions.reset_index()"
   ]
  },
  {
   "cell_type": "code",
   "execution_count": null,
   "id": "641aa1d2-7bf4-4605-91a4-b1376bf7b29c",
   "metadata": {},
   "outputs": [],
   "source": [
    "# income dataframe \n",
    "# I used the 'Total income: Average amount ($)' characteristic\n",
    "\n",
    "income = neighbourhood[['characteristic','neighbourhood','value']].query('characteristic == \"Total income: Average amount ($)\"')\n",
    "\n",
    "# adjust column name\n",
    "income = income.rename(columns={'value': 'income'})\n",
    "\n",
    "# adjust type of column to int\n",
    "income['income'] = income['income'].str.replace(',', '')\n",
    "income = income.astype({'income': int})\n",
    "\n",
    "\n",
    "# add population to crime_regions dataframe\n",
    "crime_regions = crime_regions.set_index('neighbourhood').join(income[['neighbourhood','income']].set_index('neighbourhood'))\n",
    "crime_regions = crime_regions.reset_index()"
   ]
  },
  {
   "cell_type": "code",
   "execution_count": null,
   "id": "ac078955-d34c-480d-a91e-0ade7d597684",
   "metadata": {},
   "outputs": [],
   "source": [
    "# eduaction  dataframe \n",
    "# I used the 'Total - Highest certificate, diploma or degree for the population aged 15 years and over in private households - 25% sample data' characteristic\n",
    "\n",
    "eduaction = neighbourhood[['characteristic','neighbourhood','value']].query('characteristic == \"Total - Highest certificate, diploma or degree for the population aged 15 years and over in private households - 25% sample data\"')\n",
    "\n",
    "# adjust column name\n",
    "eduaction = eduaction.rename(columns={'value': 'eduaction'})\n",
    "\n",
    "# adjust type of column to int\n",
    "eduaction['eduaction'] = eduaction['eduaction'].str.replace(',', '')\n",
    "eduaction = eduaction.astype({'eduaction': int})\n",
    "\n",
    "\n",
    "# add population to crime_regions dataframe\n",
    "crime_regions = crime_regions.set_index('neighbourhood').join(eduaction[['neighbourhood','eduaction']].set_index('neighbourhood'))\n",
    "crime_regions = crime_regions.reset_index()"
   ]
  },
  {
   "cell_type": "code",
   "execution_count": null,
   "id": "587f8ef7-6700-4972-924f-74c429ce306f",
   "metadata": {},
   "outputs": [],
   "source": []
  },
  {
   "cell_type": "code",
   "execution_count": null,
   "id": "0935a00f-b76f-4443-b817-7a1ad04c8a55",
   "metadata": {},
   "outputs": [],
   "source": [
    "# Heat Map of Assaults by Neighbourhood in Toronto\n",
    "# make the plot\n",
    "fig, ax = plt.subplots(1, figsize=(40, 20))\n",
    "ax.axis('off')\n",
    "ax.set_title('Heat Map of Assaults by Neighbourhood in Toronto, Ontario', fontdict={'fontsize': '40', 'fontweight' : '3'})\n",
    "\n",
    "color = 'Oranges'\n",
    "vmin, vmax = 0, 231\n",
    "sm = plt.cm.ScalarMappable(cmap=color, norm=plt.Normalize(vmin=vmin, vmax=vmax))\n",
    "sm._A = []\n",
    "cbar = fig.colorbar(sm)\n",
    "cbar.ax.tick_params(labelsize=20)\n",
    "\n",
    "crime_regions.plot('Assault_2016', cmap=color, linewidth=0.8, ax=ax, edgecolor='0.8', figsize=(40,20))\n",
    "for idx, row in crime_regions.iterrows():\n",
    "    if(row['Assault_2016'] > 250):\n",
    "        plt.annotate(text=row['neighbourhood'], xy=(row['longitute'], row['latitude']),\n",
    "                 horizontalalignment='center', fontsize='large', color='black', wrap=True)\n",
    "plt.show()"
   ]
  },
  {
   "cell_type": "code",
   "execution_count": null,
   "id": "170e6f1e-0119-4b1b-9894-7f649b5e2ed9",
   "metadata": {},
   "outputs": [],
   "source": [
    "# Heat Map of Crimes by Neighbourhood in Toronto\n",
    "fig, ax = plt.subplots(1, figsize=(40, 20))\n",
    "ax.axis('off')\n",
    "ax.set_title('Heat Map of Crimes by Neighbourhood in Toronto, Ontario', fontdict={'fontsize': '40', 'fontweight' : '3'})\n",
    "\n",
    "#color = 'Oranges'\n",
    "color = 'Reds'\n",
    "vmin, vmax = 0, crime_regions['TotalCrimes_2016'].max()\n",
    "sm = plt.cm.ScalarMappable(cmap=color, norm=plt.Normalize(vmin=vmin, vmax=vmax))\n",
    "sm._A = []\n",
    "cbar = fig.colorbar(sm)\n",
    "cbar.ax.tick_params(labelsize=20)\n",
    "\n",
    "crime_regions.plot('TotalCrimes_2016', cmap=color, linewidth=0.8, ax=ax, edgecolor='0.8', figsize=(40,20))\n",
    "for idx, row in crime_regions.iterrows():\n",
    "    if(row['TotalCrimes_2016'] > crime_regions['TotalCrimes_2016'].mean()):\n",
    "        plt.annotate(text=row['neighbourhood'], xy=(row['longitute'], row['latitude']),\n",
    "                 horizontalalignment='center', fontsize='large', color='black', wrap=True)\n",
    "plt.show()"
   ]
  },
  {
   "cell_type": "code",
   "execution_count": null,
   "id": "21b9a7f8-276e-4606-881f-4e9c545f0d07",
   "metadata": {},
   "outputs": [],
   "source": [
    "# assaults top 10 bar graph\n",
    "crime_regions = crime_regions.sort_values(['Assault_2016'], ascending=False)\n",
    "\n",
    "fig, ax = plt.subplots()\n",
    "\n",
    "ax.bar(crime_regions['neighbourhood'].iloc[:10], crime_regions['Assault_2016'].iloc[:10])\n",
    "\n",
    "ax.set_ylabel('Assaults')\n",
    "ax.set_title('Number of assaults by neighbourhood (top 10)')\n",
    "\n",
    "plt.show()"
   ]
  },
  {
   "cell_type": "code",
   "execution_count": null,
   "id": "98067632-29b4-4957-9930-5bee8bb18fd9",
   "metadata": {},
   "outputs": [],
   "source": [
    "# homicides\n",
    "crime_regions = crime_regions.sort_values(['Homicide_2016'], ascending=False)\n",
    "\n",
    "fig, ax = plt.subplots()\n",
    "ax.bar(crime_regions['neighbourhood'].iloc[:10], crime_regions['Homicide_2016'].iloc[:10])\n",
    "ax.set_ylabel('Assaults')\n",
    "ax.set_title('Number of homicidee by neighbourhood (top 10)')\n",
    "\n",
    "plt.show()"
   ]
  },
  {
   "cell_type": "code",
   "execution_count": null,
   "id": "9dda77ad-08d2-4c61-abe9-983a56235b4e",
   "metadata": {},
   "outputs": [],
   "source": [
    "plt.rc('figure', figsize=(12, 4))\n",
    "\n",
    "x = np.arange(len(crime_regions['neighbourhood'].iloc[:5]))  # the label locations\n",
    "width = 0.35  # the width of the bars\n",
    "\n",
    "fig, ax = plt.subplots()\n",
    "\n",
    "#rects1 = ax.bar(x - width/2, men_means, width, label='Men')\n",
    "assault = ax.bar(x - width/2, crime_regions['Assault_2016'].iloc[:5], width, label='Assault')\n",
    "homicide = ax.bar(x + width/2, crime_regions['BreakAndEnter_2016'].iloc[:5], width, label='BreakAndEnter')\n",
    "#rects2 = ax.bar(x + width/2, women_means, width, label='Women')\n",
    "\n",
    "# Add some text for labels, title and custom x-axis tick labels, etc.\n",
    "ax.set_ylabel('Crimes')\n",
    "ax.set_title('Assault/Break and Enter by neighbourhood')\n",
    "ax.set_xticks(x, crime_regions['neighbourhood'].iloc[:5])\n",
    "ax.legend()\n",
    "\n",
    "ax.bar_label(assault, padding=3)\n",
    "ax.bar_label(homicide, padding=3)\n",
    "\n",
    "fig.tight_layout()\n",
    "\n",
    "plt.show()"
   ]
  },
  {
   "cell_type": "code",
   "execution_count": null,
   "id": "b811926f-82ba-4e7f-a40b-ed6386605449",
   "metadata": {},
   "outputs": [],
   "source": [
    "crime_regions"
   ]
  },
  {
   "cell_type": "code",
   "execution_count": null,
   "id": "75c15b70-5b63-4ca7-a670-e629b40be435",
   "metadata": {},
   "outputs": [],
   "source": []
  }
 ],
 "metadata": {
  "kernelspec": {
   "display_name": "Python 3 (ipykernel)",
   "language": "python",
   "name": "python3"
  },
  "language_info": {
   "codemirror_mode": {
    "name": "ipython",
    "version": 3
   },
   "file_extension": ".py",
   "mimetype": "text/x-python",
   "name": "python",
   "nbconvert_exporter": "python",
   "pygments_lexer": "ipython3",
   "version": "3.10.6"
  }
 },
 "nbformat": 4,
 "nbformat_minor": 5
}
