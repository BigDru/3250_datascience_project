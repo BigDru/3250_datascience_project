{
 "cells": [
  {
   "cell_type": "markdown",
   "id": "d576ccb9-ab3e-49cb-95be-b9aa1b7d0379",
   "metadata": {},
   "source": [
    "# Team Project"
   ]
  },
  {
   "cell_type": "code",
   "execution_count": 1,
   "id": "482eecbb-6bed-49a8-9518-db09991efd9a",
   "metadata": {},
   "outputs": [],
   "source": [
    "# libraries to import\n",
    "import numpy as np\n",
    "import pandas as pd\n",
    "import geopandas as gpd\n",
    "import matplotlib.pyplot as plt\n",
    "import seaborn as sns\n",
    "sns.set(style=\"darkgrid\")\n",
    "%matplotlib inline"
   ]
  },
  {
   "cell_type": "code",
   "execution_count": 2,
   "id": "01337471-c281-4fdd-8126-4dc280811103",
   "metadata": {},
   "outputs": [],
   "source": [
    "## read datas\n",
    "\n",
    "# crime\n",
    "crime_raw = pd.read_csv(\"Neighbourhood_Crime_Rates.csv\")\n",
    "\n",
    "# neighbourhood data\n",
    "neighbourhood_raw = pd.read_csv(\"neighbourhood-profiles-2016-140-model.csv\")\n"
   ]
  },
  {
   "cell_type": "code",
   "execution_count": 3,
   "id": "dbd11e14-5785-43c2-b3e9-4f25a2d0580b",
   "metadata": {},
   "outputs": [],
   "source": [
    "# keep relevant variables for analysis. since the other csv contains data from 2016, only focus on 2016 data\n",
    "crime_2016 = crime_raw[['Neighbourhood', 'Assault_2016', 'Assault_Rate2016', 'AutoTheft_2016', 'AutoTheft_Rate2016',\n",
    "                      'BreakAndEnter_2016', 'BreakAndEnter_Rate2016', 'Robbery_2016', 'Robbery_Rate2016',\n",
    "                      'TheftOver_2016', 'TheftOver_Rate2016', 'Homicide_2016', 'Homicide_Rate2016',\n",
    "                      'Shootings_2016', 'Shootings_Rate2016']]"
   ]
  },
  {
   "cell_type": "code",
   "execution_count": 4,
   "id": "20835a1c-7430-4620-b146-53f50122209e",
   "metadata": {},
   "outputs": [],
   "source": [
    "%%capture --no-display\n",
    "# David's heat map stuff\n",
    "tor_map = \"Neighbourhoods.shp\"\n",
    "# read .shp file and make a common joining factor\n",
    "regions = gpd.read_file(tor_map)\n",
    "regions['neighbourhood'] = regions['FIELD_7'].str.replace(' \\(.+\\)', '')\n",
    "# keep coordinates, polygons, and neighbourhood name\n",
    "regions_cleaned = regions[['FIELD_11', 'FIELD_12', 'geometry', 'neighbourhood']]\n",
    "regions_cleaned = regions_cleaned.rename(columns={'FIELD_11':'longitute', 'FIELD_12':'latitude'})\n"
   ]
  },
  {
   "cell_type": "code",
   "execution_count": 5,
   "id": "7b519734-0310-4d86-be02-ac65199de114",
   "metadata": {},
   "outputs": [],
   "source": [
    "# join crime data and heat map data\n",
    "crime_regions = regions_cleaned.set_index('neighbourhood').join(crime_2016.set_index('Neighbourhood'))\n",
    "crime_regions = crime_regions.reset_index()\n",
    "crime_regions = crime_regions.fillna(0)\n",
    "\n",
    "# create a total crimes\n",
    "crime_regions['TotalCrimes_2016'] = crime_regions['Assault_2016']+ \\\n",
    "                            crime_regions['AutoTheft_2016']+ \\\n",
    "                            crime_regions['BreakAndEnter_2016']+ \\\n",
    "                            crime_regions['Robbery_2016']+ \\\n",
    "                            crime_regions['TheftOver_2016']+ \\\n",
    "                            crime_regions['Homicide_2016']+ \\\n",
    "                            crime_regions['Shootings_2016']\n"
   ]
  },
  {
   "cell_type": "code",
   "execution_count": 6,
   "id": "398d82bd-a5a3-4bc8-910c-2a8f905bb8f1",
   "metadata": {},
   "outputs": [],
   "source": [
    "# Unpivot the neighbourhood dataframe\n",
    "neighbourhood = pd.melt(neighbourhood_raw, id_vars=['Category','Topic','Data Source','Characteristic'])"
   ]
  },
  {
   "cell_type": "code",
   "execution_count": 7,
   "id": "2ca2747f-05cc-409e-96be-80f89aec520f",
   "metadata": {},
   "outputs": [],
   "source": [
    "# cleaning neighbourhood\n",
    "# remove rows that are not neighbourhood\n",
    "\n",
    "# remove rows whith variable = '_id'\n",
    "neighbourhood = neighbourhood.drop(\n",
    "    neighbourhood[neighbourhood[\"variable\"] == '_id'].index\n",
    ")\n",
    "\n",
    "# remove rows whith variable = 'City of Toronto'\n",
    "neighbourhood = neighbourhood.drop(\n",
    "    neighbourhood[neighbourhood[\"variable\"] == 'City of Toronto'].index\n",
    ")\n",
    "\n",
    "# now in the neighbourhood we have only neighbourhood"
   ]
  },
  {
   "cell_type": "code",
   "execution_count": 8,
   "id": "ecafe761-26ed-481e-b051-9d23ead5f03c",
   "metadata": {},
   "outputs": [],
   "source": [
    "# ajust column names\n",
    "neighbourhood = neighbourhood.rename(columns={'Category': 'category', 'Topic': 'topic', 'Data Source': 'data_source', 'Characteristic':'characteristic', 'variable': 'neighbourhood'})\n"
   ]
  },
  {
   "cell_type": "code",
   "execution_count": 9,
   "id": "f3656c1f-7096-4c9a-b788-e059cb4efe7b",
   "metadata": {},
   "outputs": [],
   "source": [
    "# population dataframe \n",
    "population = neighbourhood[['characteristic','neighbourhood','value']].query('characteristic == \"Population, 2016\"')\n",
    "\n",
    "# adjust column name\n",
    "population = population.rename(columns={'value': 'population'})\n",
    "\n",
    "# adjust type of column to int\n",
    "population['population'] = population['population'].str.replace(',', '')\n",
    "population = population.astype({'population': int})\n",
    "\n",
    "\n",
    "# add population to crime_regions dataframe\n",
    "crime_regions = crime_regions.set_index('neighbourhood').join(population[['neighbourhood','population']].set_index('neighbourhood'))\n",
    "crime_regions = crime_regions.reset_index()\n"
   ]
  },
  {
   "cell_type": "code",
   "execution_count": 10,
   "id": "4b0352d9-db53-4b27-b184-6a22629d318d",
   "metadata": {},
   "outputs": [],
   "source": [
    "# seniors dataframe \n",
    "# I used the 'Seniors (65+ years)' characteristic\n",
    "\n",
    "seniors = neighbourhood[['characteristic','neighbourhood','value']].query('characteristic == \"Seniors (65+ years)\"')\n",
    "\n",
    "# adjust column name\n",
    "seniors = seniors.rename(columns={'value': 'seniors'})\n",
    "\n",
    "# adjust type of column to int\n",
    "seniors['seniors'] = seniors['seniors'].str.replace(',', '')\n",
    "seniors = seniors.astype({'seniors': int})\n",
    "\n",
    "\n",
    "# add population to crime_regions dataframe\n",
    "crime_regions = crime_regions.set_index('neighbourhood').join(seniors[['neighbourhood','seniors']].set_index('neighbourhood'))\n",
    "crime_regions = crime_regions.reset_index()"
   ]
  },
  {
   "cell_type": "code",
   "execution_count": 11,
   "id": "fd763448-2130-4375-a3aa-e750853ea251",
   "metadata": {},
   "outputs": [],
   "source": [
    "#seniors living alone dataframe\n",
    "# I used the 'Persons age 65+ living alone (total)' characteristic\n",
    "\n",
    "seniors_alone = neighbourhood[['characteristic','neighbourhood','value']].query('characteristic == \"Persons age 65+ living alone (total)\"')\n",
    "\n",
    "# adjust column name\n",
    "seniors_alone = seniors_alone.rename(columns={'value': 'seniors_alone'})\n",
    "\n",
    "# adjust type of column to int\n",
    "seniors_alone['seniors_alone'] = seniors_alone['seniors_alone'].str.replace(',', '')\n",
    "seniors_alone = seniors_alone.astype({'seniors_alone': int})\n",
    "\n",
    "\n",
    "# add population to crime_regions dataframe\n",
    "crime_regions = crime_regions.set_index('neighbourhood').join(seniors_alone[['neighbourhood','seniors_alone']].set_index('neighbourhood'))\n",
    "crime_regions = crime_regions.reset_index()"
   ]
  },
  {
   "cell_type": "code",
   "execution_count": 12,
   "id": "641aa1d2-7bf4-4605-91a4-b1376bf7b29c",
   "metadata": {},
   "outputs": [],
   "source": [
    "# income dataframe \n",
    "# I used the 'Total income: Average amount ($)' characteristic\n",
    "\n",
    "income = neighbourhood[['characteristic','neighbourhood','value']].query('characteristic == \"Total income: Average amount ($)\"')\n",
    "\n",
    "# adjust column name\n",
    "income = income.rename(columns={'value': 'income'})\n",
    "\n",
    "# adjust type of column to int\n",
    "income['income'] = income['income'].str.replace(',', '')\n",
    "income = income.astype({'income': int})\n",
    "\n",
    "\n",
    "# add population to crime_regions dataframe\n",
    "crime_regions = crime_regions.set_index('neighbourhood').join(income[['neighbourhood','income']].set_index('neighbourhood'))\n",
    "crime_regions = crime_regions.reset_index()"
   ]
  },
  {
   "cell_type": "code",
   "execution_count": 13,
   "id": "ac078955-d34c-480d-a91e-0ade7d597684",
   "metadata": {},
   "outputs": [],
   "source": [
    "# eduaction  dataframe \n",
    "# I used the 'Total - Highest certificate, diploma or degree for the population aged 15 years and over in private households - 25% sample data' characteristic\n",
    "\n",
    "eduaction = neighbourhood[['characteristic','neighbourhood','value']].query('characteristic == \"Total - Highest certificate, diploma or degree for the population aged 15 years and over in private households - 25% sample data\"')\n",
    "\n",
    "# adjust column name\n",
    "eduaction = eduaction.rename(columns={'value': 'eduaction'})\n",
    "\n",
    "# adjust type of column to int\n",
    "eduaction['eduaction'] = eduaction['eduaction'].str.replace(',', '')\n",
    "eduaction = eduaction.astype({'eduaction': int})\n",
    "\n",
    "\n",
    "# add population to crime_regions dataframe\n",
    "crime_regions = crime_regions.set_index('neighbourhood').join(eduaction[['neighbourhood','eduaction']].set_index('neighbourhood'))\n",
    "crime_regions = crime_regions.reset_index()"
   ]
  },
  {
   "cell_type": "code",
   "execution_count": null,
   "id": "587f8ef7-6700-4972-924f-74c429ce306f",
   "metadata": {},
   "outputs": [],
   "source": []
  },
  {
   "cell_type": "code",
   "execution_count": null,
   "id": "0935a00f-b76f-4443-b817-7a1ad04c8a55",
   "metadata": {},
   "outputs": [],
   "source": [
    "# Heat Map of Assaults by Neighbourhood in Toronto\n",
    "%%capture --no-display\n",
    "# make the plot\n",
    "fig, ax = plt.subplots(1, figsize=(40, 20))\n",
    "ax.axis('off')\n",
    "ax.set_title('Heat Map of Assaults by Neighbourhood in Toronto, Ontario', fontdict={'fontsize': '40', 'fontweight' : '3'})\n",
    "\n",
    "color = 'Oranges'\n",
    "vmin, vmax = 0, 231\n",
    "sm = plt.cm.ScalarMappable(cmap=color, norm=plt.Normalize(vmin=vmin, vmax=vmax))\n",
    "sm._A = []\n",
    "cbar = fig.colorbar(sm)\n",
    "cbar.ax.tick_params(labelsize=20)\n",
    "\n",
    "crime_regions.plot('Assault_2016', cmap=color, linewidth=0.8, ax=ax, edgecolor='0.8', figsize=(40,20))\n",
    "for idx, row in crime_regions.iterrows():\n",
    "    if(row['Assault_2016'] > 250):\n",
    "        plt.annotate(text=row['neighbourhood'], xy=(row['longitute'], row['latitude']),\n",
    "                 horizontalalignment='center', fontsize='large', color='black', wrap=True)\n",
    "plt.show()"
   ]
  },
  {
   "cell_type": "code",
   "execution_count": null,
   "id": "170e6f1e-0119-4b1b-9894-7f649b5e2ed9",
   "metadata": {},
   "outputs": [],
   "source": [
    "# Heat Map of Crimes by Neighbourhood in Toronto\n",
    "fig, ax = plt.subplots(1, figsize=(40, 20))\n",
    "ax.axis('off')\n",
    "ax.set_title('Heat Map of Crimes by Neighbourhood in Toronto, Ontario', fontdict={'fontsize': '40', 'fontweight' : '3'})\n",
    "\n",
    "#color = 'Oranges'\n",
    "color = 'Reds'\n",
    "vmin, vmax = 0, crime_regions['TotalCrimes_2016'].max()\n",
    "sm = plt.cm.ScalarMappable(cmap=color, norm=plt.Normalize(vmin=vmin, vmax=vmax))\n",
    "sm._A = []\n",
    "cbar = fig.colorbar(sm)\n",
    "cbar.ax.tick_params(labelsize=20)\n",
    "\n",
    "crime_regions.plot('TotalCrimes_2016', cmap=color, linewidth=0.8, ax=ax, edgecolor='0.8', figsize=(40,20))\n",
    "for idx, row in crime_regions.iterrows():\n",
    "    if(row['TotalCrimes_2016'] > crime_regions['TotalCrimes_2016'].mean()):\n",
    "        plt.annotate(text=row['neighbourhood'], xy=(row['longitute'], row['latitude']),\n",
    "                 horizontalalignment='center', fontsize='large', color='black', wrap=True)\n",
    "plt.show()"
   ]
  },
  {
   "cell_type": "code",
   "execution_count": null,
   "id": "21b9a7f8-276e-4606-881f-4e9c545f0d07",
   "metadata": {},
   "outputs": [],
   "source": [
    "# assaults top 10 bar graph\n",
    "crime_regions = crime_regions.sort_values(['Assault_2016'], ascending=False)\n",
    "\n",
    "fig, ax = plt.subplots()\n",
    "\n",
    "ax.bar(crime_regions['neighbourhood'].iloc[:10], crime_regions['Assault_2016'].iloc[:10])\n",
    "\n",
    "ax.set_ylabel('Assaults')\n",
    "ax.set_title('Number of assaults by neighbourhood (top 10)')\n",
    "\n",
    "plt.show()"
   ]
  },
  {
   "cell_type": "code",
   "execution_count": null,
   "id": "98067632-29b4-4957-9930-5bee8bb18fd9",
   "metadata": {},
   "outputs": [],
   "source": [
    "# homicides\n",
    "crime_regions = crime_regions.sort_values(['Homicide_2016'], ascending=False)\n",
    "\n",
    "fig, ax = plt.subplots()\n",
    "ax.bar(crime_regions['neighbourhood'].iloc[:10], crime_regions['Homicide_2016'].iloc[:10])\n",
    "ax.set_ylabel('Assaults')\n",
    "ax.set_title('Number of homicidee by neighbourhood (top 10)')\n",
    "\n",
    "plt.show()"
   ]
  }
 ],
 "metadata": {
  "kernelspec": {
   "display_name": "Python 3 (ipykernel)",
   "language": "python",
   "name": "python3"
  },
  "language_info": {
   "codemirror_mode": {
    "name": "ipython",
    "version": 3
   },
   "file_extension": ".py",
   "mimetype": "text/x-python",
   "name": "python",
   "nbconvert_exporter": "python",
   "pygments_lexer": "ipython3",
   "version": "3.10.6"
  }
 },
 "nbformat": 4,
 "nbformat_minor": 5
}
