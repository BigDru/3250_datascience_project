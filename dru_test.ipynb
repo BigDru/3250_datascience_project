{
 "cells": [
  {
   "cell_type": "markdown",
   "id": "b2177033-9df1-4acb-8fdf-9e96caeacfc3",
   "metadata": {},
   "source": [
    "# Team Project"
   ]
  },
  {
   "cell_type": "code",
   "execution_count": 1,
   "id": "5e3fc6d4-312e-4210-bccb-a39372e5a4c3",
   "metadata": {},
   "outputs": [],
   "source": [
    "# libraries to import\n",
    "import numpy as np\n",
    "import pandas as pd\n",
    "import geopandas as gpd\n",
    "import matplotlib.pyplot as plt\n",
    "import matplotlib as mpltlib\n",
    "import seaborn as sns\n",
    "from mlxtend.feature_selection import SequentialFeatureSelector as sfs\n",
    "from sklearn.linear_model import LinearRegression\n",
    "import statsmodels.api as sm\n",
    "\n",
    "sns.set(style=\"darkgrid\")\n",
    "%matplotlib inline"
   ]
  },
  {
   "cell_type": "code",
   "execution_count": 2,
   "id": "4facb3de-0090-4f1e-b8dd-685e8ed7a587",
   "metadata": {},
   "outputs": [],
   "source": [
    "## read datas\n",
    "\n",
    "# region\n",
    "tor_map = \"Neighbourhoods.shp\"\n",
    "regions = gpd.read_file(tor_map)\n",
    "\n",
    "# crime\n",
    "crime_raw = pd.read_csv(\"Neighbourhood_Crime_Rates.csv\")\n",
    "\n",
    "# neighbourhood data\n",
    "neighbourhood_raw = pd.read_csv(\"neighbourhood-profiles-2016-140-model.csv\")\n"
   ]
  },
  {
   "cell_type": "code",
   "execution_count": 3,
   "id": "eecf8672-c357-411e-b233-63535a13cabf",
   "metadata": {},
   "outputs": [],
   "source": [
    "%%capture --no-display\n",
    "regions['neighbourhood'] = regions['FIELD_7'].str.replace(' \\(.+\\)', '')\n",
    "\n",
    "# keep coordinates, polygons, and neighbourhood name\n",
    "regions_cleaned = regions[['FIELD_11', 'FIELD_12', 'geometry', 'neighbourhood']]\n",
    "regions_cleaned = regions_cleaned.rename(columns={'FIELD_11':'longitute', 'FIELD_12':'latitude'})\n"
   ]
  },
  {
   "cell_type": "code",
   "execution_count": 4,
   "id": "5f3a2664-0740-4ca4-a1bf-6b04d0881090",
   "metadata": {},
   "outputs": [],
   "source": [
    "# keep relevant variables for analysis. since the other csv contains data from 2016, only focus on 2016 data\n",
    "crime_2016 = crime_raw[['Neighbourhood', 'Assault_2016', 'Assault_Rate2016', 'AutoTheft_2016', 'AutoTheft_Rate2016',\n",
    "                      'BreakAndEnter_2016', 'BreakAndEnter_Rate2016', 'Robbery_2016', 'Robbery_Rate2016',\n",
    "                      'TheftOver_2016', 'TheftOver_Rate2016', 'Homicide_2016', 'Homicide_Rate2016',\n",
    "                      'Shootings_2016', 'Shootings_Rate2016']]"
   ]
  },
  {
   "cell_type": "code",
   "execution_count": 5,
   "id": "27436c00-3646-4dc4-97af-983f809021c8",
   "metadata": {},
   "outputs": [],
   "source": [
    "# join crime data and heat map data\n",
    "crime_regions = regions_cleaned.set_index('neighbourhood').join(crime_2016.set_index('Neighbourhood'))\n",
    "crime_regions = crime_regions.reset_index()\n",
    "crime_regions = crime_regions.fillna(0)\n",
    "\n",
    "# create a total crimes\n",
    "crime_regions['TotalCrimes_2016'] = crime_regions['Assault_2016']+ \\\n",
    "                            crime_regions['AutoTheft_2016']+ \\\n",
    "                            crime_regions['BreakAndEnter_2016']+ \\\n",
    "                            crime_regions['Robbery_2016']+ \\\n",
    "                            crime_regions['TheftOver_2016']+ \\\n",
    "                            crime_regions['Homicide_2016']+ \\\n",
    "                            crime_regions['Shootings_2016']\n",
    "crime_regions['TotalCrimes_Rate2016'] = crime_regions['Assault_Rate2016']+ \\\n",
    "                            crime_regions['AutoTheft_Rate2016']+ \\\n",
    "                            crime_regions['BreakAndEnter_Rate2016']+ \\\n",
    "                            crime_regions['Robbery_Rate2016']+ \\\n",
    "                            crime_regions['TheftOver_Rate2016']+ \\\n",
    "                            crime_regions['Homicide_Rate2016']+ \\\n",
    "                            crime_regions['Shootings_Rate2016']\n",
    "\n",
    "\n",
    "# create \"property\" type crimes variable\n",
    "crime_regions['PropertyCrimes_2016'] = crime_regions['AutoTheft_2016'] + crime_regions['BreakAndEnter_2016'] + crime_regions['Robbery_2016'] + crime_regions['TheftOver_2016']\n",
    "crime_regions['PropertyCrimes_Rate2016'] = crime_regions['AutoTheft_Rate2016'] + crime_regions['BreakAndEnter_Rate2016'] + crime_regions['Robbery_Rate2016'] + crime_regions['TheftOver_Rate2016']\n",
    "# create \"violence\" type crimes variable\n",
    "crime_regions['ViolenceCrimes_2016'] = crime_regions['Assault_Rate2016'] + crime_regions['Homicide_Rate2016']+ crime_regions['Shootings_Rate2016']\n",
    "crime_regions['ViolenceCrimes_Rate2016'] = crime_regions['Assault_Rate2016'] + crime_regions['Homicide_Rate2016']+ crime_regions['Shootings_Rate2016']"
   ]
  },
  {
   "cell_type": "code",
   "execution_count": 6,
   "id": "54430fe4-d69d-45b0-acc4-4c9e271af55d",
   "metadata": {},
   "outputs": [],
   "source": [
    "# Unpivot the neighbourhood dataframe\n",
    "neighbourhood = pd.melt(neighbourhood_raw, id_vars=['Category','Topic','Data Source','Characteristic'])"
   ]
  },
  {
   "cell_type": "code",
   "execution_count": 7,
   "id": "17d40982-513e-4164-8227-10109e9de4f7",
   "metadata": {},
   "outputs": [],
   "source": [
    "# cleaning neighbourhood\n",
    "# remove rows that are not neighbourhood\n",
    "\n",
    "# remove rows with variable = '_id'\n",
    "neighbourhood = neighbourhood.drop(\n",
    "    neighbourhood[neighbourhood[\"variable\"] == '_id'].index\n",
    ")\n",
    "\n",
    "# remove rows with variable = 'City of Toronto'\n",
    "neighbourhood = neighbourhood.drop(\n",
    "    neighbourhood[neighbourhood[\"variable\"] == 'City of Toronto'].index\n",
    ")\n",
    "\n",
    "# now in the neighbourhood we have only neighbourhood"
   ]
  },
  {
   "cell_type": "code",
   "execution_count": 8,
   "id": "cf0f20ce-5ec7-49f0-8cdc-d8f20b264565",
   "metadata": {},
   "outputs": [],
   "source": [
    "# adjust column names\n",
    "neighbourhood = neighbourhood.rename(columns={'Category': 'category', 'Topic': 'topic', 'Data Source': 'data_source', 'Characteristic':'characteristic', 'variable': 'neighbourhood'})\n"
   ]
  },
  {
   "cell_type": "code",
   "execution_count": 9,
   "id": "42bd2f41-176e-4d2b-a57f-e54ff33e1439",
   "metadata": {},
   "outputs": [],
   "source": [
    "# function to return a dataframe filtering values from neighbourhood dataframme\n",
    "def neighbourhoodDataframeValueFiltered(column, filter):\n",
    "    newDataframe = neighbourhood[['characteristic','neighbourhood','value']].query('characteristic == \"'+filter+'\"')\n",
    "    \n",
    "    # adjust column name\n",
    "    newDataframe = newDataframe.rename(columns={'value': column})\n",
    "\n",
    "    # adjust type of column to int\n",
    "    newDataframe[column] = newDataframe[column].str.replace(',', '')\n",
    "    newDataframe = newDataframe.astype({column: float})\n",
    "    newDataframe = newDataframe.drop('characteristic', axis=1)\n",
    "    \n",
    "    # return dataFrame \n",
    "    return newDataframe"
   ]
  },
  {
   "cell_type": "code",
   "execution_count": 10,
   "id": "4868f6dc-7f72-4519-b69c-267432321813",
   "metadata": {},
   "outputs": [],
   "source": [
    "# dictionary with column name and condition to add from neighbourhood to crime_regions\n",
    "dict_columns = {}\n",
    "dict_columns['population'] = 'Population, 2016'\n",
    "dict_columns['children'] = 'Children (0-14 years)'\n",
    "dict_columns['youth']='Youth (15-24 years)'\n",
    "dict_columns['workingAge']='Working Age (25-54 years)'\n",
    "dict_columns['preRetirement']='Pre-retirement (55-64 years)'\n",
    "dict_columns['seniors']='Seniors (65+ years)'\n",
    "dict_columns['olderSeniors']='Older Seniors (85+ years)'\n",
    "dict_columns['seniors_alone']='Persons age 65+ living alone (total)'\n",
    "dict_columns['income']='Total income: Average amount ($)'\n",
    "dict_columns['education']='Total - Highest certificate, diploma or degree for the population aged 15 years and over in private households - 25% sample data'\n",
    "dict_columns['indigenous']='Total - Aboriginal identity for the population in private households - 25% sample data'\n",
    "dict_columns['unemployment']='Employment rate'\n"
   ]
  },
  {
   "cell_type": "code",
   "execution_count": null,
   "id": "9b6d5e37-110d-4a0f-b9a0-e13fbeabe568",
   "metadata": {},
   "outputs": [],
   "source": [
    "# loop to add columns (definied in dictionary) to crime_regions\n",
    "for column in dict_columns:\n",
    "    crime_regions = crime_regions.merge(neighbourhoodDataframeValueFiltered(column, dict_columns[column]), left_on='neighbourhood', right_on='neighbourhood')\n"
   ]
  },
  {
   "cell_type": "code",
   "execution_count": null,
   "id": "70dcbd77-ab03-45b4-8094-54ab2b4f8a12",
   "metadata": {
    "tags": []
   },
   "outputs": [],
   "source": [
    "# convert variables to per capita measures (per 100000 people)\n",
    "population_variables = ['children', 'youth', 'workingAge', 'preRetirement', 'seniors', 'olderSeniors', 'seniors_alone', 'education', 'indigenous']\n",
    "# this should work but isn't generating the right numbers\n",
    "# crime_regions[population_variables_colnames] = crime_regions.apply(lambda x: (x[population_variables]/x['population'] * 100000), axis=1)\n",
    "for var in population_variables:\n",
    "    crime_regions[var + '_percapita'] = crime_regions[var]/crime_regions['population']* 1000000"
   ]
  },
  {
   "cell_type": "code",
   "execution_count": null,
   "id": "abed6dae-73aa-4cfc-8ac0-adfbeba90c4c",
   "metadata": {},
   "outputs": [],
   "source": [
    "crime_regions.head(10)"
   ]
  },
  {
   "cell_type": "code",
   "execution_count": null,
   "id": "509b7491-e196-4277-82c8-d490bc1eab3c",
   "metadata": {},
   "outputs": [],
   "source": [
    "predictors = [s + '_percapita' for s in population_variables] + ['population', 'income', 'unemployment']"
   ]
  },
  {
   "cell_type": "code",
   "execution_count": null,
   "id": "f4277d9d-a369-4064-a065-f7744f05aa35",
   "metadata": {},
   "outputs": [],
   "source": [
    "# TOTAL CRIME RATE FEATURE SELECTION\n",
    "x = crime_regions[predictors]\n",
    "y_total = crime_regions['TotalCrimes_Rate2016']\n",
    "\n",
    "lreg = LinearRegression()\n",
    "sfs_total = sfs(lreg, k_features=5, forward=False, verbose=0, scoring='neg_mean_squared_error')\n",
    "sfsfit_total = sfs_total.fit(x, y_total)\n",
    "idx_total = sfsfit_total.k_feature_idx_\n",
    "pd.DataFrame.from_dict(sfsfit_total.get_metric_dict()).T.iloc[-1]"
   ]
  },
  {
   "cell_type": "code",
   "execution_count": null,
   "id": "8c55b88a-299b-46e4-874a-e4a7bc40b317",
   "metadata": {},
   "outputs": [],
   "source": [
    "# VIOLENT CRIME RATE FEATURE SELECTION\n",
    "y_violence = crime_regions['ViolenceCrimes_Rate2016']\n",
    "\n",
    "# feature selection for violent crimes\n",
    "sfs_violence = sfs(lreg, k_features=5, forward=False, verbose=0, scoring='neg_mean_squared_error')\n",
    "sfsfit_violence = sfs_violence.fit(x, y_violence)\n",
    "idx_violence = sfsfit_violence.k_feature_idx_\n",
    "pd.DataFrame.from_dict(sfsfit_violence.get_metric_dict()).T.iloc[-1]"
   ]
  },
  {
   "cell_type": "code",
   "execution_count": null,
   "id": "c2d373c1-052c-4db8-abc6-b640e1cea284",
   "metadata": {},
   "outputs": [],
   "source": [
    "# PROPERTY CRIME RATE FEATURE SELECTION\n",
    "y_property = crime_regions['PropertyCrimes_Rate2016']\n",
    "\n",
    "sfs_property = sfs(lreg, k_features=5, forward=False, verbose=0, scoring='neg_mean_squared_error')\n",
    "sfsfit_property = sfs_property.fit(x, y_property)\n",
    "idx_property = sfsfit_property.k_feature_idx_\n",
    "pd.DataFrame.from_dict(sfsfit_property.get_metric_dict()).T.iloc[-1] # data frame of final feature selection"
   ]
  },
  {
   "cell_type": "code",
   "execution_count": null,
   "id": "16281b77-d6cb-472d-ae08-344df7f907a4",
   "metadata": {
    "tags": []
   },
   "outputs": [],
   "source": [
    "# create list of selected features\n",
    "predictors_list_total = []\n",
    "for x in idx_total:\n",
    "    predictors_list_total.append(predictors[x])\n",
    "\n",
    "# multiple linear regression with selected predictors for total crime rates\n",
    "x_total = crime_regions[predictors_list_total]\n",
    "x_total = sm.add_constant(x_total)\n",
    "    \n",
    "model1 = sm.OLS(y_total, x_total).fit()\n",
    "model1.summary()"
   ]
  },
  {
   "cell_type": "code",
   "execution_count": null,
   "id": "2e850373-6d24-4770-a965-17829efbead5",
   "metadata": {},
   "outputs": [],
   "source": [
    "type(sm)"
   ]
  },
  {
   "cell_type": "code",
   "execution_count": null,
   "id": "4acb1aff-cb1c-4a57-9d71-27a61a7245d1",
   "metadata": {},
   "outputs": [],
   "source": [
    "x = crime_regions[predictors_list_total]"
   ]
  },
  {
   "cell_type": "code",
   "execution_count": null,
   "id": "3fdf482b-c137-432c-8ea1-c8e9ae39fdb4",
   "metadata": {},
   "outputs": [],
   "source": [
    "cormat = crime_regions[predictors_list_total].corr()\n",
    "round(cormat,2)\n",
    "ax = plt.axes()\n",
    "sns.heatmap(cormat, annot=cormat)\n",
    "ax.set_title('Correlation between predictors of total crime rates')\n",
    "plt.show()"
   ]
  },
  {
   "cell_type": "code",
   "execution_count": null,
   "id": "b10683d9-e1cb-46de-b544-d918a531f1a3",
   "metadata": {},
   "outputs": [],
   "source": [
    "# multiple linear regression with selected predictors for violent crime rates\n",
    "predictors_list_violence = []\n",
    "for x in idx_violence:\n",
    "    predictors_list_violence.append(predictors[x])\n",
    "\n",
    "x_violence = crime_regions[predictors_list_violence]\n",
    "x_violence = sm.add_constant(x_violence)\n",
    "    \n",
    "model = sm.OLS(y_violence, x_violence).fit()\n",
    "model.summary()"
   ]
  },
  {
   "cell_type": "code",
   "execution_count": null,
   "id": "d320c72c-1ee0-474a-b4cc-56d3f0054911",
   "metadata": {},
   "outputs": [],
   "source": [
    "cormat = crime_regions[predictors_list_violence].corr()\n",
    "round(cormat,2)\n",
    "ax = plt.axes()\n",
    "sns.heatmap(cormat, annot=cormat)\n",
    "ax.set_title('Correlation between predictors of violent crime rates')\n",
    "plt.show()"
   ]
  },
  {
   "cell_type": "code",
   "execution_count": null,
   "id": "ea6a2fce-2b29-43bf-a50e-b82ce6469662",
   "metadata": {},
   "outputs": [],
   "source": [
    "# multiple linear regression with selected predictors for property crime rates\n",
    "predictors_list_property = []\n",
    "for x in idx_property:\n",
    "    predictors_list_property.append(predictors[x])\n",
    "\n",
    "x_property = crime_regions[predictors_list_property]\n",
    "x_property = sm.add_constant(x_property)\n",
    "    \n",
    "model1 = sm.OLS(y_property, x_property).fit()\n",
    "model1.summary()"
   ]
  },
  {
   "cell_type": "code",
   "execution_count": null,
   "id": "df71c156-9617-47ee-83a8-62b0b22a1c8e",
   "metadata": {},
   "outputs": [],
   "source": [
    "cormat = crime_regions[predictors_list_property].corr()\n",
    "round(cormat,2)\n",
    "ax = plt.axes()\n",
    "sns.heatmap(cormat, annot=cormat)\n",
    "ax.set_title('Correlation between predictors of property crime rates')\n",
    "plt.show()"
   ]
  },
  {
   "cell_type": "code",
   "execution_count": null,
   "id": "16afe0bd-1482-40be-8089-ab2506a42c1c",
   "metadata": {},
   "outputs": [],
   "source": [
    "%%capture --no-display\n",
    "# Heat Map of Total Crime Rate by Neighbourhood in Toronto\n",
    "fig, ax = plt.subplots(1, figsize=(40, 20))\n",
    "ax.axis('off')\n",
    "ax.set_title('Heat Map of Total Crime Rate (per 100,000) \\nby Neighbourhood in Toronto, Ontario', fontdict={'fontsize': '40', 'fontweight' : '3'})\n",
    "\n",
    "color = 'Oranges'\n",
    "vmin, vmax = 0, crime_regions['TotalCrimes_Rate2016'].max()\n",
    "scaler_mappable = plt.cm.ScalarMappable(cmap=color, norm=plt.Normalize(vmin=vmin, vmax=vmax))\n",
    "#scaler_mappable._A = []\n",
    "cbar = fig.colorbar(scaler_mappable)\n",
    "cbar.ax.tick_params(labelsize=20)\n",
    "\n",
    "crime_regions.plot('TotalCrimes_Rate2016', cmap=color, linewidth=0.8, ax=ax, edgecolor='0.8', figsize=(40,20))\n",
    "for idx, row in crime_regions.iterrows():\n",
    "    if(row['TotalCrimes_Rate2016'] > 2000):\n",
    "        plt.annotate(text=row['neighbourhood'], xy=(row['longitute'], row['latitude']),\n",
    "                 horizontalalignment='center', fontsize=10, color='black', wrap=True)\n",
    "plt.show()"
   ]
  },
  {
   "cell_type": "code",
   "execution_count": null,
   "id": "bde6b3f5-0f3e-48bc-ba86-9a8d5cc8ef93",
   "metadata": {},
   "outputs": [],
   "source": []
  },
  {
   "cell_type": "code",
   "execution_count": null,
   "id": "2f0d1c70-5c6c-4884-8bfc-b926910818de",
   "metadata": {},
   "outputs": [],
   "source": [
    "%%capture --no-display\n",
    "# Heat Map of Property Related Crimes by Neighbourhood in Toronto\n",
    "\n",
    "fig, ax = plt.subplots(1, figsize=(40, 20))\n",
    "ax.axis('off')\n",
    "ax.set_title('Heat Map of Property Related Crimes by Neighbourhood in Toronto, Ontario', fontdict={'fontsize': '40', 'fontweight' : '3'})\n",
    "\n",
    "color = 'Blues'\n",
    "vmin, vmax = 0, crime_regions['PropertyCrimes_Rate2016'].max()\n",
    "scaler_mappable = plt.cm.ScalarMappable(cmap=color, norm=plt.Normalize(vmin=vmin, vmax=vmax))\n",
    "#sm._A = []\n",
    "cbar = fig.colorbar(scaler_mappable)\n",
    "cbar.ax.tick_params(labelsize=20)\n",
    "\n",
    "crime_regions.plot('PropertyCrimes_Rate2016', cmap=color, linewidth=0.8, ax=ax, edgecolor='0.8', figsize=(40,20))\n",
    "for idx, row in crime_regions.iterrows():\n",
    "    if(row['PropertyCrimes_Rate2016'] > 1000):\n",
    "        plt.annotate(text=row['neighbourhood'], xy=(row['longitute'], row['latitude']),\n",
    "                 horizontalalignment='center', fontsize='large', color='black', wrap=True)\n",
    "plt.show()"
   ]
  },
  {
   "cell_type": "code",
   "execution_count": null,
   "id": "c01d6d04-54bf-4afa-bf9b-03e3769d30c2",
   "metadata": {},
   "outputs": [],
   "source": [
    "%%capture --no-display\n",
    "# Heat Map of Violence Related Crimes by Neighbourhood in Toronto\n",
    "\n",
    "fig, ax = plt.subplots(1, figsize=(40, 20))\n",
    "ax.axis('off')\n",
    "ax.set_title('Heat Map of Violent Crimes by Neighbourhood in Toronto, Ontario', fontdict={'fontsize': '40', 'fontweight' : '3'})\n",
    "\n",
    "color = 'Greens'\n",
    "vmin, vmax = 0, crime_regions['ViolenceCrimes_Rate2016'].max()\n",
    "scaler_mappable = plt.cm.ScalarMappable(cmap=color, norm=plt.Normalize(vmin=vmin, vmax=vmax))\n",
    "#sm._A = []\n",
    "cbar = fig.colorbar(scaler_mappable)\n",
    "cbar.ax.tick_params(labelsize=20)\n",
    "\n",
    "crime_regions.plot('ViolenceCrimes_Rate2016', cmap=color, linewidth=0.8, ax=ax, edgecolor='0.8', figsize=(40,20))\n",
    "for idx, row in crime_regions.iterrows():\n",
    "    if(row['ViolenceCrimes_Rate2016'] > 1000):\n",
    "        plt.annotate(text=row['neighbourhood'], xy=(row['longitute'], row['latitude']),\n",
    "                 horizontalalignment='center', fontsize='large', color='black', wrap=True)\n",
    "plt.show()"
   ]
  },
  {
   "cell_type": "code",
   "execution_count": null,
   "id": "cf80821b-195e-4ad7-879c-1e277a228360",
   "metadata": {},
   "outputs": [],
   "source": [
    "# assaults top 10 bar graph\n",
    "crime_regions = crime_regions.sort_values(['TotalCrimes_Rate2016'], ascending=False)\n",
    "\n",
    "fig, ax = plt.subplots()\n",
    "\n",
    "ax.bar(crime_regions['neighbourhood'].iloc[:10], crime_regions['TotalCrimes_Rate2016'].iloc[:10])\n",
    "\n",
    "ax.set_ylabel('Total Crime Rate \\n(per 100,000 people)')\n",
    "ax.set_title('Number of total crimes committed by neighbourhood (top 10)')\n",
    "\n",
    "plt.show()"
   ]
  },
  {
   "cell_type": "code",
   "execution_count": null,
   "id": "b1d7c946-d0c1-4e97-9ea5-0948294558e8",
   "metadata": {},
   "outputs": [],
   "source": [
    "plt.rc('figure', figsize=(12, 4))\n",
    "\n",
    "x = np.arange(len(crime_regions['neighbourhood'].iloc[:5]))  # the label locations\n",
    "width = 0.35  # the width of the bars\n",
    "\n",
    "fig, ax = plt.subplots()\n",
    "\n",
    "#rects1 = ax.bar(x - width/2, men_means, width, label='Men')\n",
    "assault = ax.bar(x - width/2, crime_regions['Assault_2016'].iloc[:5], width, label='Assault')\n",
    "homicide = ax.bar(x + width/2, crime_regions['BreakAndEnter_2016'].iloc[:5], width, label='BreakAndEnter')\n",
    "#rects2 = ax.bar(x + width/2, women_means, width, label='Women')\n",
    "\n",
    "# Add some text for labels, title and custom x-axis tick labels, etc.\n",
    "ax.set_ylabel('Crimes')\n",
    "ax.set_title('Assault/Break and Enter by neighbourhood')\n",
    "ax.set_xticks(x, crime_regions['neighbourhood'].iloc[:5])\n",
    "ax.legend()\n",
    "\n",
    "ax.bar_label(assault, padding=3)\n",
    "ax.bar_label(homicide, padding=3)\n",
    "\n",
    "fig.tight_layout()\n",
    "\n",
    "plt.show()"
   ]
  },
  {
   "cell_type": "code",
   "execution_count": null,
   "id": "e3c90d10-0092-4f02-937b-f594a9cec3fb",
   "metadata": {},
   "outputs": [],
   "source": [
    "crime_regions = crime_regions.sort_values(['TotalCrimes_2016'], ascending=False)\n",
    "\n",
    "plt.plot(crime_regions['neighbourhood'].iloc[:5],crime_regions['Assault_2016'].iloc[:5])\n",
    "plt.plot(crime_regions['neighbourhood'].iloc[:5],crime_regions['AutoTheft_2016'].iloc[:5])\n",
    "plt.plot(crime_regions['neighbourhood'].iloc[:5],crime_regions['BreakAndEnter_2016'].iloc[:5])\n",
    "plt.plot(crime_regions['neighbourhood'].iloc[:5],crime_regions['Robbery_2016'].iloc[:5])\n",
    "plt.plot(crime_regions['neighbourhood'].iloc[:5],crime_regions['TheftOver_2016'].iloc[:5])\n",
    "plt.plot(crime_regions['neighbourhood'].iloc[:5],crime_regions['Homicide_2016'].iloc[:5])\n",
    "plt.plot(crime_regions['neighbourhood'].iloc[:5],crime_regions['Shootings_2016'].iloc[:5])\n"
   ]
  },
  {
   "cell_type": "code",
   "execution_count": null,
   "id": "da1971f6-af66-4da1-bc09-e8307c3410bb",
   "metadata": {},
   "outputs": [],
   "source": [
    "%%capture --no-display\n",
    "# make smaller plots so we can visually compare them\n",
    "crimes_of_interest_column_names = [\"Assault_Rate2016\", \"AutoTheft_Rate2016\", \"BreakAndEnter_Rate2016\", \n",
    "                                   \"Robbery_Rate2016\", \"TheftOver_Rate2016\", \"Homicide_Rate2016\", \"Shootings_Rate2016\"]\n",
    "#colors = plt.cm.Sequential\n",
    "colors = [\"Oranges\", \"Blues\", \"Reds\", \"Greens\"]\n",
    "\n",
    "fig_width = 5\n",
    "fig_height = 5\n",
    "\n",
    "# make the plots\n",
    "fig, axs = plt.subplots(ncols=len(crimes_of_interest_column_names), figsize=(fig_width * len(crimes_of_interest_column_names), fig_height))\n",
    "# common settings for all plots:\n",
    "for ax in axs:\n",
    "    ax.axis('off')\n",
    "\n",
    "# unique settings:\n",
    "for i in range(0, len(crimes_of_interest_column_names)):\n",
    "    crime_column = crimes_of_interest_column_names[i]\n",
    "    #todo: fix title crime name\n",
    "    axs[i].set_title(f\"{crime_column}\", fontdict={'fontsize': '10', 'fontweight' : '3'})\n",
    "\n",
    "    color = colors[i % len(colors)]\n",
    "    vmin, vmax = 0, crime_regions[crime_column].max()\n",
    "    scalar_mappable = mpltlib.cm.ScalarMappable(norm=plt.Normalize(vmin=vmin, vmax=vmax), cmap=color)\n",
    "    \n",
    "    #cbar = fig.colorbar(scalar_mappable)\n",
    "    #cbar.ax.tick_params(labelsize=14)\n",
    "\n",
    "    crime_regions.plot(crime_column, cmap=color, linewidth=0.8, ax=axs[i], edgecolor='0.8', figsize=(fig_width, fig_height))\n",
    "\n",
    "    \n",
    "plt.show()\n",
    "    \n",
    "#####################\n",
    "discard = '''\n",
    "# make the plot\n",
    "fig, ax = plt.subplots(1, figsize=(10,5))\n",
    "ax.axis('off')\n",
    "ax.set_title('Heat Map of Unemployment', fontdict={'fontsize': '10', 'fontweight' : '3'})\n",
    "\n",
    "color = 'Blues'\n",
    "vmin, vmax = 0, 231\n",
    "sm = plt.cm.ScalarMappable(cmap=color, norm=plt.Normalize(vmin=vmin, vmax=vmax))\n",
    "sm._A = []\n",
    "cbar = fig.colorbar(sm)\n",
    "cbar.ax.tick_params(labelsize=20)\n",
    "\n",
    "merged.plot('Assault_2016', cmap=color, linewidth=0.8, ax=ax, edgecolor='0.8', figsize=(10,5))\n",
    "\n",
    "plt.show()\n",
    "'''"
   ]
  },
  {
   "cell_type": "code",
   "execution_count": null,
   "id": "e0ddfbf0-3705-46e3-b646-551c709ea05f",
   "metadata": {},
   "outputs": [],
   "source": [
    "%%capture --no-display\n",
    "# compare distribution of features compared to outcomes\n",
    "\n",
    "crimes_of_interest_column_names = [\"Assault_2016\", \"AutoTheft_2016\", \"BreakAndEnter_2016\", \"Robbery_2016\", \"TheftOver_2016\", \"Homicide_2016\", \"Shootings_2016\"]\n",
    "#colors = plt.cm.Sequential\n",
    "colors = [\"Oranges\", \"Blues\", \"Reds\", \"Greens\"]\n",
    "\n",
    "fig_width = 5\n",
    "fig_height = 5\n",
    "\n",
    "# make the plots\n",
    "fig, axs = plt.subplots(ncols=len(crimes_of_interest_column_names), figsize=(fig_width * len(crimes_of_interest_column_names), fig_height))\n",
    "# common settings for all plots:\n",
    "for ax in axs:\n",
    "    ax.axis('off')\n",
    "\n",
    "# unique settings:\n",
    "for i in range(0, len(crimes_of_interest_column_names)):\n",
    "    crime_column = crimes_of_interest_column_names[i]\n",
    "    #todo: fix title crime name\n",
    "    axs[i].set_title(f\"{crime_column}\", fontdict={'fontsize': '10', 'fontweight' : '3'})\n",
    "\n",
    "    color = colors[i % len(colors)]\n",
    "    vmin, vmax = 0, crime_regions[crime_column].max()\n",
    "    scalar_mappable = mpltlib.cm.ScalarMappable(norm=plt.Normalize(vmin=vmin, vmax=vmax), cmap=color)\n",
    "    \n",
    "    #cbar = fig.colorbar(scalar_mappable)\n",
    "    #cbar.ax.tick_params(labelsize=14)\n",
    "\n",
    "    crime_regions.plot(crime_column, cmap=color, linewidth=0.8, ax=axs[i], edgecolor='0.8', figsize=(fig_width, fig_height))\n",
    "\n",
    "    \n",
    "plt.show()\n",
    "    "
   ]
  },
  {
   "cell_type": "code",
   "execution_count": null,
   "id": "0d3b6e7f-57dd-4ca8-acba-f1b8b7bcc4c6",
   "metadata": {},
   "outputs": [],
   "source": []
  },
  {
   "cell_type": "code",
   "execution_count": null,
   "id": "e3f46570-13e4-4ff0-8b76-63c3c06addd8",
   "metadata": {},
   "outputs": [],
   "source": [
    "# Unpivot the crime dataframe\n",
    "crime_years = pd.melt(crime_raw, id_vars=['OBJECTID','Neighbourhood','Hood_ID','F2020_Population_Projection','Shape__Area','Shape__Length'])\n"
   ]
  },
  {
   "cell_type": "code",
   "execution_count": null,
   "id": "96cae43b-8007-4864-a66d-adaf749e9938",
   "metadata": {},
   "outputs": [],
   "source": [
    "# adjust the variable column to split\n",
    "crime_years['variable'] = crime_years['variable'].str.replace('_Rate', 'Rate_')\n"
   ]
  },
  {
   "cell_type": "code",
   "execution_count": null,
   "id": "24033037-f96a-4c23-bac9-024097ba23a0",
   "metadata": {},
   "outputs": [],
   "source": [
    "# split variable column into crime_type and year\n",
    "crime_years[['crime_type','year']] = crime_years['variable'].str.split('_', expand=True)\n"
   ]
  },
  {
   "cell_type": "code",
   "execution_count": null,
   "id": "b43f69c0-435c-460a-9b08-ce0485479512",
   "metadata": {},
   "outputs": [],
   "source": [
    "# remove columns that are not used\n",
    "crime_years = crime_years.drop('OBJECTID', axis=1)\n",
    "crime_years = crime_years.drop('Hood_ID', axis=1)\n",
    "crime_years = crime_years.drop('F2020_Population_Projection', axis=1)\n",
    "crime_years = crime_years.drop('Shape__Area', axis=1)\n",
    "crime_years = crime_years.drop('Shape__Length', axis=1)\n",
    "crime_years = crime_years.drop('variable', axis=1)\n"
   ]
  },
  {
   "cell_type": "code",
   "execution_count": null,
   "id": "8c98d6b0-f580-46ed-8eb2-589e9c273d56",
   "metadata": {},
   "outputs": [],
   "source": [
    "crime_years"
   ]
  },
  {
   "cell_type": "code",
   "execution_count": null,
   "id": "edb9a5c6-a98d-4035-ba99-fa4099302103",
   "metadata": {},
   "outputs": [],
   "source": []
  },
  {
   "cell_type": "code",
   "execution_count": null,
   "id": "953a68b2-6bac-49d9-bc5d-d7c46c662a10",
   "metadata": {},
   "outputs": [],
   "source": []
  },
  {
   "cell_type": "code",
   "execution_count": null,
   "id": "3124dc8d-6224-4e9d-9031-971f0126fb87",
   "metadata": {},
   "outputs": [],
   "source": [
    "# keep relevant variables for analysis. since the other csv contains data from 2016, only focus on 2016 data\n",
    "crime_2016 = crime_raw[['Neighbourhood', 'Assault_2016', 'Assault_Rate2016', 'AutoTheft_2016', 'AutoTheft_Rate2016',\n",
    "                      'BreakAndEnter_2016', 'BreakAndEnter_Rate2016', 'Robbery_2016', 'Robbery_Rate2016',\n",
    "                      'TheftOver_2016', 'TheftOver_Rate2016', 'Homicide_2016', 'Homicide_Rate2016',\n",
    "                      'Shootings_2016', 'Shootings_Rate2016']]"
   ]
  },
  {
   "cell_type": "code",
   "execution_count": null,
   "id": "5a5e14e8-8c1c-4a58-bd20-a3116953b1c6",
   "metadata": {},
   "outputs": [],
   "source": [
    "# join crime data and heat map data\n",
    "crime_regions = regions_cleaned.set_index('neighbourhood').join(crime_2016.set_index('Neighbourhood'))\n",
    "crime_regions = crime_regions.reset_index()\n",
    "crime_regions = crime_regions.fillna(0)\n",
    "\n",
    "# create a total crimes\n",
    "crime_regions['TotalCrimes_2016'] = crime_regions['Assault_2016']+ \\\n",
    "                            crime_regions['AutoTheft_2016']+ \\\n",
    "                            crime_regions['BreakAndEnter_2016']+ \\\n",
    "                            crime_regions['Robbery_2016']+ \\\n",
    "                            crime_regions['TheftOver_2016']+ \\\n",
    "                            crime_regions['Homicide_2016']+ \\\n",
    "                            crime_regions['Shootings_2016']\n",
    "crime_regions['TotalCrimes_Rate2016'] = crime_regions['Assault_Rate2016']+ \\\n",
    "                            crime_regions['AutoTheft_Rate2016']+ \\\n",
    "                            crime_regions['BreakAndEnter_Rate2016']+ \\\n",
    "                            crime_regions['Robbery_Rate2016']+ \\\n",
    "                            crime_regions['TheftOver_Rate2016']+ \\\n",
    "                            crime_regions['Homicide_Rate2016']+ \\\n",
    "                            crime_regions['Shootings_Rate2016']\n",
    "\n",
    "\n",
    "# create \"property\" type crimes variable\n",
    "crime_regions['PropertyCrimes_2016'] = crime_regions['AutoTheft_2016'] + crime_regions['BreakAndEnter_2016'] + crime_regions['Robbery_2016'] + crime_regions['TheftOver_2016']\n",
    "crime_regions['PropertyCrimes_Rate2016'] = crime_regions['AutoTheft_Rate2016'] + crime_regions['BreakAndEnter_Rate2016'] + crime_regions['Robbery_Rate2016'] + crime_regions['TheftOver_Rate2016']\n",
    "# create \"violence\" type crimes variable\n",
    "crime_regions['ViolenceCrimes_2016'] = crime_regions['Assault_Rate2016'] + crime_regions['Homicide_Rate2016']+ crime_regions['Shootings_Rate2016']\n",
    "crime_regions['ViolenceCrimes_Rate2016'] = crime_regions['Assault_Rate2016'] + crime_regions['Homicide_Rate2016']+ crime_regions['Shootings_Rate2016']"
   ]
  },
  {
   "cell_type": "code",
   "execution_count": null,
   "id": "024bcb01-7299-4577-a014-4d721e4f0eec",
   "metadata": {},
   "outputs": [],
   "source": [
    "# Unpivot the neighbourhood dataframe\n",
    "neighbourhood = pd.melt(neighbourhood_raw, id_vars=['Category','Topic','Data Source','Characteristic'])"
   ]
  },
  {
   "cell_type": "code",
   "execution_count": null,
   "id": "cf4719b4-e290-458d-b797-233fe03f4771",
   "metadata": {},
   "outputs": [],
   "source": [
    "# cleaning neighbourhood\n",
    "# remove rows that are not neighbourhood\n",
    "\n",
    "# remove rows with variable = '_id'\n",
    "neighbourhood = neighbourhood.drop(\n",
    "    neighbourhood[neighbourhood[\"variable\"] == '_id'].index\n",
    ")\n",
    "\n",
    "# remove rows with variable = 'City of Toronto'\n",
    "neighbourhood = neighbourhood.drop(\n",
    "    neighbourhood[neighbourhood[\"variable\"] == 'City of Toronto'].index\n",
    ")\n",
    "\n",
    "# now in the neighbourhood we have only neighbourhood"
   ]
  },
  {
   "cell_type": "code",
   "execution_count": null,
   "id": "9072e127-f491-44b9-ad1a-7e3345db5bed",
   "metadata": {},
   "outputs": [],
   "source": [
    "# adjust column names\n",
    "neighbourhood = neighbourhood.rename(columns={'Category': 'category', 'Topic': 'topic', 'Data Source': 'data_source', 'Characteristic':'characteristic', 'variable': 'neighbourhood'})\n"
   ]
  },
  {
   "cell_type": "code",
   "execution_count": null,
   "id": "5b07a08b-7261-413d-a89a-88dabbde0d69",
   "metadata": {},
   "outputs": [],
   "source": [
    "# function to return a dataframe filtering values from neighbourhood dataframme\n",
    "def neighbourhoodDataframeValueFiltered(column, filter):\n",
    "    newDataframe = neighbourhood[['characteristic','neighbourhood','value']].query('characteristic == \"'+filter+'\"')\n",
    "    \n",
    "    # adjust column name\n",
    "    newDataframe = newDataframe.rename(columns={'value': column})\n",
    "\n",
    "    # adjust type of column to int\n",
    "    newDataframe[column] = newDataframe[column].str.replace(',', '')\n",
    "    newDataframe = newDataframe.astype({column: float})\n",
    "    newDataframe = newDataframe.drop('characteristic', axis=1)\n",
    "    \n",
    "    # return dataFrame \n",
    "    return newDataframe"
   ]
  },
  {
   "cell_type": "code",
   "execution_count": null,
   "id": "43399fd6-3f09-4f0a-9f17-f9366da32e16",
   "metadata": {},
   "outputs": [],
   "source": [
    "# dictionary with column name and condition to add from neighbourhood to crime_regions\n",
    "dict_columns = {}\n",
    "dict_columns['population'] = 'Population, 2016'\n",
    "dict_columns['children'] = 'Children (0-14 years)'\n",
    "dict_columns['youth']='Youth (15-24 years)'\n",
    "dict_columns['workingAge']='Working Age (25-54 years)'\n",
    "dict_columns['preRetirement']='Pre-retirement (55-64 years)'\n",
    "dict_columns['seniors']='Seniors (65+ years)'\n",
    "dict_columns['olderSeniors']='Older Seniors (85+ years)'\n",
    "dict_columns['seniors_alone']='Persons age 65+ living alone (total)'\n",
    "dict_columns['income']='Total income: Average amount ($)'\n",
    "dict_columns['education']='Total - Highest certificate, diploma or degree for the population aged 15 years and over in private households - 25% sample data'\n",
    "dict_columns['indigenous']='Total - Aboriginal identity for the population in private households - 25% sample data'\n",
    "dict_columns['unemployment']='Employment rate'\n"
   ]
  },
  {
   "cell_type": "code",
   "execution_count": null,
   "id": "e239173c-d273-455f-a2de-b4e0768073b6",
   "metadata": {},
   "outputs": [],
   "source": [
    "# loop to add columns (definied in dictionary) to crime_regions\n",
    "for column in dict_columns:\n",
    "    crime_regions = crime_regions.merge(neighbourhoodDataframeValueFiltered(column, dict_columns[column]), left_on='neighbourhood', right_on='neighbourhood')\n"
   ]
  },
  {
   "cell_type": "code",
   "execution_count": null,
   "id": "63abe743-5500-4ad1-9335-6e66a184ff1b",
   "metadata": {
    "tags": []
   },
   "outputs": [],
   "source": [
    "# convert variables to per capita measures (per 100000 people)\n",
    "population_variables = ['children', 'youth', 'workingAge', 'preRetirement', 'seniors', 'olderSeniors', 'seniors_alone', 'education', 'indigenous']\n",
    "# this should work but isn't generating the right numbers\n",
    "# crime_regions[population_variables_colnames] = crime_regions.apply(lambda x: (x[population_variables]/x['population'] * 100000), axis=1)\n",
    "for var in population_variables:\n",
    "    crime_regions[var + '_percapita'] = crime_regions[var]/crime_regions['population']* 1000000"
   ]
  },
  {
   "cell_type": "code",
   "execution_count": null,
   "id": "0d6c481f-3be5-472c-bb84-4dc8932679f3",
   "metadata": {},
   "outputs": [],
   "source": [
    "crime_regions.head(10)"
   ]
  },
  {
   "cell_type": "code",
   "execution_count": null,
   "id": "214114f5-847d-4745-aec5-a0a433bbf071",
   "metadata": {},
   "outputs": [],
   "source": [
    "predictors = [s + '_percapita' for s in population_variables] + ['population', 'income', 'unemployment']"
   ]
  },
  {
   "cell_type": "code",
   "execution_count": null,
   "id": "c996aa6a-fe44-41ea-9299-bd9984dc5d0b",
   "metadata": {},
   "outputs": [],
   "source": [
    "# TOTAL CRIME RATE FEATURE SELECTION\n",
    "x = crime_regions[predictors]\n",
    "y_total = crime_regions['TotalCrimes_Rate2016']\n",
    "\n",
    "sfs_total = sfs(lreg, k_features=5, forward=False, verbose=0, scoring='neg_mean_squared_error')\n",
    "sfsfit_total = sfs_total.fit(x, y_total)\n",
    "idx3 = sfsfit_total.k_feature_idx_\n",
    "pd.DataFrame.from_dict(sfsfit_total.get_metric_dict()).T.iloc[-1]"
   ]
  },
  {
   "cell_type": "code",
   "execution_count": null,
   "id": "5f991759-44b8-4644-a277-404701975f56",
   "metadata": {},
   "outputs": [],
   "source": [
    "# VIOLENT CRIME RATE FEATURE SELECTION\n",
    "y_violence = crime_regions['ViolenceCrimes_Rate2016']\n",
    "\n",
    "# feature selection for violent crimes\n",
    "sfs_violence = sfs(lreg, k_features=5, forward=False, verbose=0, scoring='neg_mean_squared_error')\n",
    "sfsfit_violence = sfs_violence.fit(x, y2)\n",
    "idx_violence = sfsfit_violence.k_feature_idx_\n",
    "pd.DataFrame.from_dict(sfsfit_violence.get_metric_dict()).T.iloc[-1]"
   ]
  },
  {
   "cell_type": "code",
   "execution_count": null,
   "id": "e311e18b-d5d9-4afb-90ec-9b0f2327d325",
   "metadata": {},
   "outputs": [],
   "source": [
    "# PROPERTY CRIME RATE FEATURE SELECTION\n",
    "y_property = crime_regions['PropertyCrimes_Rate2016']\n",
    "\n",
    "lreg = LinearRegression()\n",
    "sfs_property = sfs(lreg, k_features=5, forward=False, verbose=0, scoring='neg_mean_squared_error')\n",
    "sfsfit_property = sfs_property.fit(x, y_property)\n",
    "idx_property = sfsfit_property.k_feature_idx_\n",
    "pd.DataFrame.from_dict(sfsfit1.get_metric_dict()).T.iloc[-1] # data frame of final feature selection"
   ]
  },
  {
   "cell_type": "code",
   "execution_count": null,
   "id": "1efd2bd2-554b-49e6-aa7b-982507eb36e1",
   "metadata": {},
   "outputs": [],
   "source": [
    "x = crime_regions[predictors_list_total]"
   ]
  },
  {
   "cell_type": "code",
   "execution_count": null,
   "id": "8c1911ca-54c0-4215-8da1-6cee83c9ef6d",
   "metadata": {},
   "outputs": [],
   "source": [
    "# create list of selected features\n",
    "predictors_list_total = []\n",
    "for x in idx_violence:\n",
    "    predictors_list_total.append(predictors[x])\n",
    "\n",
    "# multiple linear regression with selected predictors for total crime rates\n",
    "x_total = crime_regions[predictors_list_total]\n",
    "x_total = sm.add_constant(x_total)\n",
    "    \n",
    "model1 = sm.OLS(y_total, x_total).fit()\n",
    "model1.summary()"
   ]
  },
  {
   "cell_type": "code",
   "execution_count": null,
   "id": "1a3463c9-7fd2-42a1-a602-5294f593371b",
   "metadata": {},
   "outputs": [],
   "source": [
    "cormat = crime_regions[predictors_list_total].corr()\n",
    "round(cormat,2)\n",
    "ax = plt.axes()\n",
    "sns.heatmap(cormat, annot=cormat)\n",
    "ax.set_title('Correlation between predictors of total crime rates')\n",
    "plt.show()"
   ]
  },
  {
   "cell_type": "code",
   "execution_count": null,
   "id": "c29ee0cb-91b4-4f8c-88a2-605561d99c97",
   "metadata": {},
   "outputs": [],
   "source": [
    "# multiple linear regression with selected predictors for violent crime rates\n",
    "predictors_list_violence = []\n",
    "for x in idx_violence:\n",
    "    predictors_list_violence.append(predictors[x])\n",
    "\n",
    "x_violence = crime_regions[predictors_list_violence]\n",
    "x_violence = sm.add_constant(x_violence)\n",
    "    \n",
    "model = sm.OLS(y_violence, x_violence).fit()\n",
    "model.summary()"
   ]
  },
  {
   "cell_type": "code",
   "execution_count": null,
   "id": "65cbb4a3-0e80-4af9-965e-8b9ba40444c7",
   "metadata": {},
   "outputs": [],
   "source": [
    "cormat = crime_regions[predictors_list_violence].corr()\n",
    "round(cormat,2)\n",
    "ax = plt.axes()\n",
    "sns.heatmap(cormat, annot=cormat)\n",
    "ax.set_title('Correlation between predictors of violent crime rates')\n",
    "plt.show()"
   ]
  },
  {
   "cell_type": "code",
   "execution_count": null,
   "id": "ac4fa74e-6954-46af-9efc-73e396bc5845",
   "metadata": {},
   "outputs": [],
   "source": [
    "# multiple linear regression with selected predictors for property crime rates\n",
    "predictors_list_property = []\n",
    "for x in idx_property:\n",
    "    predictors_list_property.append(predictors[x])\n",
    "\n",
    "x_property = crime_regions[predictors_list_property]\n",
    "x_property = sm.add_constant(x_property)\n",
    "    \n",
    "model1 = sm.OLS(y_property, x_property).fit()\n",
    "model1.summary()"
   ]
  },
  {
   "cell_type": "code",
   "execution_count": null,
   "id": "53310a83-6f87-4b4d-a6cd-a552ede2a024",
   "metadata": {},
   "outputs": [],
   "source": [
    "cormat = crime_regions[predictors_list_property].corr()\n",
    "round(cormat,2)\n",
    "ax = plt.axes()\n",
    "sns.heatmap(cormat, annot=cormat)\n",
    "ax.set_title('Correlation between predictors of property crime rates')\n",
    "plt.show()"
   ]
  },
  {
   "cell_type": "code",
   "execution_count": null,
   "id": "d9e9053e-cc9f-4ffe-8211-a21ec293a29c",
   "metadata": {},
   "outputs": [],
   "source": [
    "%%capture --no-display\n",
    "# Heat Map of Total Crime Rate by Neighbourhood in Toronto\n",
    "fig, ax = plt.subplots(1, figsize=(40, 20))\n",
    "ax.axis('off')\n",
    "ax.set_title('Heat Map of Total Crime Rate (per 100,000) \\nby Neighbourhood in Toronto, Ontario', fontdict={'fontsize': '40', 'fontweight' : '3'})\n",
    "\n",
    "color = 'Oranges'\n",
    "vmin, vmax = 0, crime_regions['TotalCrimes_Rate2016'].max()\n",
    "sm = plt.cm.ScalarMappable(cmap=color, norm=plt.Normalize(vmin=vmin, vmax=vmax))\n",
    "sm._A = []\n",
    "cbar = fig.colorbar(sm)\n",
    "cbar.ax.tick_params(labelsize=20)\n",
    "\n",
    "crime_regions.plot('TotalCrimes_Rate2016', cmap=color, linewidth=0.8, ax=ax, edgecolor='0.8', figsize=(40,20))\n",
    "for idx, row in crime_regions.iterrows():\n",
    "    if(row['TotalCrimes_Rate2016'] > 2000):\n",
    "        plt.annotate(text=row['neighbourhood'], xy=(row['longitute'], row['latitude']),\n",
    "                 horizontalalignment='center', fontsize='large', color='black', wrap=True)\n",
    "plt.show()"
   ]
  },
  {
   "cell_type": "code",
   "execution_count": null,
   "id": "20b13899-78cb-4388-b809-60359cda9e49",
   "metadata": {},
   "outputs": [],
   "source": [
    "%%capture --no-display\n",
    "# Heat Map of Property Related Crimes by Neighbourhood in Toronto\n",
    "\n",
    "fig, ax = plt.subplots(1, figsize=(40, 20))\n",
    "ax.axis('off')\n",
    "ax.set_title('Heat Map of Property Related Crimes by Neighbourhood in Toronto, Ontario', fontdict={'fontsize': '40', 'fontweight' : '3'})\n",
    "\n",
    "color = 'Blues'\n",
    "vmin, vmax = 0, crime_regions['PropertyCrimes_Rate2016'].max()\n",
    "sm = plt.cm.ScalarMappable(cmap=color, norm=plt.Normalize(vmin=vmin, vmax=vmax))\n",
    "sm._A = []\n",
    "cbar = fig.colorbar(sm)\n",
    "cbar.ax.tick_params(labelsize=20)\n",
    "\n",
    "crime_regions.plot('PropertyCrimes_Rate2016', cmap=color, linewidth=0.8, ax=ax, edgecolor='0.8', figsize=(40,20))\n",
    "for idx, row in crime_regions.iterrows():\n",
    "    if(row['PropertyCrimes_Rate2016'] > 1000):\n",
    "        plt.annotate(text=row['neighbourhood'], xy=(row['longitute'], row['latitude']),\n",
    "                 horizontalalignment='center', fontsize='large', color='black', wrap=True)\n",
    "plt.show()"
   ]
  },
  {
   "cell_type": "code",
   "execution_count": null,
   "id": "87cd3b6c-afcf-409b-b433-a97d296a5e13",
   "metadata": {},
   "outputs": [],
   "source": [
    "%%capture --no-display\n",
    "# Heat Map of Violence Related Crimes by Neighbourhood in Toronto\n",
    "\n",
    "fig, ax = plt.subplots(1, figsize=(40, 20))\n",
    "ax.axis('off')\n",
    "ax.set_title('Heat Map of Violent Crimes by Neighbourhood in Toronto, Ontario', fontdict={'fontsize': '40', 'fontweight' : '3'})\n",
    "\n",
    "color = 'Greens'\n",
    "vmin, vmax = 0, crime_regions['ViolenceCrimes_Rate2016'].max()\n",
    "sm = plt.cm.ScalarMappable(cmap=color, norm=plt.Normalize(vmin=vmin, vmax=vmax))\n",
    "sm._A = []\n",
    "cbar = fig.colorbar(sm)\n",
    "cbar.ax.tick_params(labelsize=20)\n",
    "\n",
    "crime_regions.plot('ViolenceCrimes_Rate2016', cmap=color, linewidth=0.8, ax=ax, edgecolor='0.8', figsize=(40,20))\n",
    "for idx, row in crime_regions.iterrows():\n",
    "    if(row['ViolenceCrimes_Rate2016'] > 1000):\n",
    "        plt.annotate(text=row['neighbourhood'], xy=(row['longitute'], row['latitude']),\n",
    "                 horizontalalignment='center', fontsize='large', color='black', wrap=True)\n",
    "plt.show()"
   ]
  },
  {
   "cell_type": "code",
   "execution_count": null,
   "id": "2c2a1c30-b8a3-4add-86b7-93d2b0b2f27d",
   "metadata": {},
   "outputs": [],
   "source": [
    "# assaults top 10 bar graph\n",
    "crime_regions = crime_regions.sort_values(['TotalCrimes_Rate2016'], ascending=False)\n",
    "\n",
    "fig, ax = plt.subplots()\n",
    "\n",
    "ax.bar(crime_regions['neighbourhood'].iloc[:10], crime_regions['TotalCrimes_Rate2016'].iloc[:10])\n",
    "\n",
    "ax.set_ylabel('Total Crime Rate \\n(per 100,000 people)')\n",
    "ax.set_title('Number of total crimes committed by neighbourhood (top 10)')\n",
    "\n",
    "plt.show()"
   ]
  },
  {
   "cell_type": "code",
   "execution_count": null,
   "id": "2b59a14d-17ec-48b1-8463-ad75287d81e1",
   "metadata": {},
   "outputs": [],
   "source": [
    "plt.rc('figure', figsize=(12, 4))\n",
    "\n",
    "x = np.arange(len(crime_regions['neighbourhood'].iloc[:5]))  # the label locations\n",
    "width = 0.35  # the width of the bars\n",
    "\n",
    "fig, ax = plt.subplots()\n",
    "\n",
    "#rects1 = ax.bar(x - width/2, men_means, width, label='Men')\n",
    "assault = ax.bar(x - width/2, crime_regions['Assault_2016'].iloc[:5], width, label='Assault')\n",
    "homicide = ax.bar(x + width/2, crime_regions['BreakAndEnter_2016'].iloc[:5], width, label='BreakAndEnter')\n",
    "#rects2 = ax.bar(x + width/2, women_means, width, label='Women')\n",
    "\n",
    "# Add some text for labels, title and custom x-axis tick labels, etc.\n",
    "ax.set_ylabel('Crimes')\n",
    "ax.set_title('Assault/Break and Enter by neighbourhood')\n",
    "ax.set_xticks(x, crime_regions['neighbourhood'].iloc[:5])\n",
    "ax.legend()\n",
    "\n",
    "ax.bar_label(assault, padding=3)\n",
    "ax.bar_label(homicide, padding=3)\n",
    "\n",
    "fig.tight_layout()\n",
    "\n",
    "plt.show()"
   ]
  },
  {
   "cell_type": "code",
   "execution_count": null,
   "id": "506f507e-c637-4f68-8773-c2053cb5d851",
   "metadata": {},
   "outputs": [],
   "source": [
    "crime_regions = crime_regions.sort_values(['TotalCrimes_2016'], ascending=False)\n",
    "\n",
    "plt.plot(crime_regions['neighbourhood'].iloc[:5],crime_regions['Assault_2016'].iloc[:5])\n",
    "plt.plot(crime_regions['neighbourhood'].iloc[:5],crime_regions['AutoTheft_2016'].iloc[:5])\n",
    "plt.plot(crime_regions['neighbourhood'].iloc[:5],crime_regions['BreakAndEnter_2016'].iloc[:5])\n",
    "plt.plot(crime_regions['neighbourhood'].iloc[:5],crime_regions['Robbery_2016'].iloc[:5])\n",
    "plt.plot(crime_regions['neighbourhood'].iloc[:5],crime_regions['TheftOver_2016'].iloc[:5])\n",
    "plt.plot(crime_regions['neighbourhood'].iloc[:5],crime_regions['Homicide_2016'].iloc[:5])\n",
    "plt.plot(crime_regions['neighbourhood'].iloc[:5],crime_regions['Shootings_2016'].iloc[:5])\n"
   ]
  },
  {
   "cell_type": "code",
   "execution_count": null,
   "id": "ab356ea7-624c-43c6-b1e6-d18c8d8b6e19",
   "metadata": {},
   "outputs": [],
   "source": [
    "%%capture --no-display\n",
    "# make smaller plots so we can visually compare them\n",
    "crimes_of_interest_column_names = [\"Assault_Rate2016\", \"AutoTheft_Rate2016\", \"BreakAndEnter_Rate2016\", \n",
    "                                   \"Robbery_Rate2016\", \"TheftOver_Rate2016\", \"Homicide_Rate2016\", \"Shootings_Rate2016\"]\n",
    "#colors = plt.cm.Sequential\n",
    "colors = [\"Oranges\", \"Blues\", \"Reds\", \"Greens\"]\n",
    "\n",
    "fig_width = 5\n",
    "fig_height = 5\n",
    "\n",
    "# make the plots\n",
    "fig, axs = plt.subplots(ncols=len(crimes_of_interest_column_names), figsize=(fig_width * len(crimes_of_interest_column_names), fig_height))\n",
    "# common settings for all plots:\n",
    "for ax in axs:\n",
    "    ax.axis('off')\n",
    "\n",
    "# unique settings:\n",
    "for i in range(0, len(crimes_of_interest_column_names)):\n",
    "    crime_column = crimes_of_interest_column_names[i]\n",
    "    #todo: fix title crime name\n",
    "    axs[i].set_title(f\"{crime_column}\", fontdict={'fontsize': '10', 'fontweight' : '3'})\n",
    "\n",
    "    color = colors[i % len(colors)]\n",
    "    vmin, vmax = 0, crime_regions[crime_column].max()\n",
    "    scalar_mappable = mpltlib.cm.ScalarMappable(norm=plt.Normalize(vmin=vmin, vmax=vmax), cmap=color)\n",
    "    \n",
    "    #cbar = fig.colorbar(scalar_mappable)\n",
    "    #cbar.ax.tick_params(labelsize=14)\n",
    "\n",
    "    crime_regions.plot(crime_column, cmap=color, linewidth=0.8, ax=axs[i], edgecolor='0.8', figsize=(fig_width, fig_height))\n",
    "\n",
    "    \n",
    "plt.show()\n",
    "    \n",
    "#####################\n",
    "discard = '''\n",
    "# make the plot\n",
    "fig, ax = plt.subplots(1, figsize=(10,5))\n",
    "ax.axis('off')\n",
    "ax.set_title('Heat Map of Unemployment', fontdict={'fontsize': '10', 'fontweight' : '3'})\n",
    "\n",
    "color = 'Blues'\n",
    "vmin, vmax = 0, 231\n",
    "sm = plt.cm.ScalarMappable(cmap=color, norm=plt.Normalize(vmin=vmin, vmax=vmax))\n",
    "sm._A = []\n",
    "cbar = fig.colorbar(sm)\n",
    "cbar.ax.tick_params(labelsize=20)\n",
    "\n",
    "merged.plot('Assault_2016', cmap=color, linewidth=0.8, ax=ax, edgecolor='0.8', figsize=(10,5))\n",
    "\n",
    "plt.show()\n",
    "'''"
   ]
  },
  {
   "cell_type": "code",
   "execution_count": null,
   "id": "2db38bc1-3b2a-4336-a201-c3b9a691dd79",
   "metadata": {},
   "outputs": [],
   "source": [
    "%%capture --no-display\n",
    "# compare distribution of features compared to outcomes\n",
    "\n",
    "crimes_of_interest_column_names = [\"Assault_2016\", \"AutoTheft_2016\", \"BreakAndEnter_2016\", \"Robbery_2016\", \"TheftOver_2016\", \"Homicide_2016\", \"Shootings_2016\"]\n",
    "#colors = plt.cm.Sequential\n",
    "colors = [\"Oranges\", \"Blues\", \"Reds\", \"Greens\"]\n",
    "\n",
    "fig_width = 5\n",
    "fig_height = 5\n",
    "\n",
    "# make the plots\n",
    "fig, axs = plt.subplots(ncols=len(crimes_of_interest_column_names), figsize=(fig_width * len(crimes_of_interest_column_names), fig_height))\n",
    "# common settings for all plots:\n",
    "for ax in axs:\n",
    "    ax.axis('off')\n",
    "\n",
    "# unique settings:\n",
    "for i in range(0, len(crimes_of_interest_column_names)):\n",
    "    crime_column = crimes_of_interest_column_names[i]\n",
    "    #todo: fix title crime name\n",
    "    axs[i].set_title(f\"{crime_column}\", fontdict={'fontsize': '10', 'fontweight' : '3'})\n",
    "\n",
    "    color = colors[i % len(colors)]\n",
    "    vmin, vmax = 0, crime_regions[crime_column].max()\n",
    "    scalar_mappable = mpltlib.cm.ScalarMappable(norm=plt.Normalize(vmin=vmin, vmax=vmax), cmap=color)\n",
    "    \n",
    "    #cbar = fig.colorbar(scalar_mappable)\n",
    "    #cbar.ax.tick_params(labelsize=14)\n",
    "\n",
    "    crime_regions.plot(crime_column, cmap=color, linewidth=0.8, ax=axs[i], edgecolor='0.8', figsize=(fig_width, fig_height))\n",
    "\n",
    "    \n",
    "plt.show()\n",
    "    "
   ]
  },
  {
   "cell_type": "code",
   "execution_count": null,
   "id": "3f2f2da4-268b-4654-a882-0eadf7fb49d7",
   "metadata": {},
   "outputs": [],
   "source": []
  },
  {
   "cell_type": "code",
   "execution_count": null,
   "id": "95d6f453-46af-426e-b2f0-228bb35f0590",
   "metadata": {},
   "outputs": [],
   "source": [
    "# Unpivot the crime dataframe\n",
    "crime_years = pd.melt(crime_raw, id_vars=['OBJECTID','Neighbourhood','Hood_ID','F2020_Population_Projection','Shape__Area','Shape__Length'])\n"
   ]
  },
  {
   "cell_type": "code",
   "execution_count": null,
   "id": "10e37190-45b7-491e-bb75-8203ac67f224",
   "metadata": {},
   "outputs": [],
   "source": [
    "# adjust the variable column to split\n",
    "crime_years['variable'] = crime_years['variable'].str.replace('_Rate', 'Rate_')\n"
   ]
  },
  {
   "cell_type": "code",
   "execution_count": null,
   "id": "6c56f731-111f-498a-a971-06ee285e8d70",
   "metadata": {},
   "outputs": [],
   "source": [
    "# split variable column into crime_type and year\n",
    "crime_years[['crime_type','year']] = crime_years['variable'].str.split('_', expand=True)\n"
   ]
  },
  {
   "cell_type": "code",
   "execution_count": null,
   "id": "9a11a3c9-5a87-4def-a1f1-66e70ca7da0a",
   "metadata": {},
   "outputs": [],
   "source": [
    "# remove columns that are not used\n",
    "crime_years = crime_years.drop('OBJECTID', axis=1)\n",
    "crime_years = crime_years.drop('Hood_ID', axis=1)\n",
    "crime_years = crime_years.drop('F2020_Population_Projection', axis=1)\n",
    "crime_years = crime_years.drop('Shape__Area', axis=1)\n",
    "crime_years = crime_years.drop('Shape__Length', axis=1)\n",
    "crime_years = crime_years.drop('variable', axis=1)\n"
   ]
  },
  {
   "cell_type": "code",
   "execution_count": null,
   "id": "8705bbb5-8424-47c3-b2f5-16053b3f3720",
   "metadata": {},
   "outputs": [],
   "source": [
    "crime_years"
   ]
  },
  {
   "cell_type": "code",
   "execution_count": null,
   "id": "891a9935-cc57-4284-811a-55bddcd3b30a",
   "metadata": {},
   "outputs": [],
   "source": []
  },
  {
   "cell_type": "code",
   "execution_count": null,
   "id": "2c3f9ff8-a8da-45aa-a9e1-c2d3f7410148",
   "metadata": {},
   "outputs": [],
   "source": []
  }
 ],
 "metadata": {
  "kernelspec": {
   "display_name": "Python 3 (ipykernel)",
   "language": "python",
   "name": "python3"
  },
  "language_info": {
   "codemirror_mode": {
    "name": "ipython",
    "version": 3
   },
   "file_extension": ".py",
   "mimetype": "text/x-python",
   "name": "python",
   "nbconvert_exporter": "python",
   "pygments_lexer": "ipython3",
   "version": "3.10.6"
  }
 },
 "nbformat": 4,
 "nbformat_minor": 5
}
